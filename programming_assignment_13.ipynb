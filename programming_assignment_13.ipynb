{
 "cells": [
  {
   "cell_type": "raw",
   "id": "f41f1100-0bff-477a-8c08-ecb5f9fa7953",
   "metadata": {},
   "source": [
    "Question 1:\n",
    "Write a program that calculates and prints the value according to the given formula:\n",
    "Q = Square root of [(2 * C * D)/H]\n",
    "Following are the fixed values of C and H:\n",
    "C is 50. H is 30.\n",
    "D is the variable whose values should be input to your program in a comma-separated\n",
    "sequence.\n",
    "Example\n",
    "Let us assume the following comma separated input sequence is given to the program:\n",
    "100,150,180\n",
    "The output of the program should be:\n",
    "18,22,24"
   ]
  },
  {
   "cell_type": "code",
   "execution_count": 13,
   "id": "22f6bdcd-198c-49bc-9095-843a02e20662",
   "metadata": {},
   "outputs": [
    {
     "name": "stdin",
     "output_type": "stream",
     "text": [
      " 100,150,180\n"
     ]
    },
    {
     "name": "stdout",
     "output_type": "stream",
     "text": [
      "[18, 22, 24]\n"
     ]
    }
   ],
   "source": [
    "#Ans:\n",
    "import math\n",
    "l=[]\n",
    "C=50\n",
    "H=30\n",
    "D=list(map(int,input().split(',')))\n",
    "for i in D:\n",
    "    ans=(2 * C * i)/H\n",
    "    ans=int(math.sqrt(ans))\n",
    "    l.append(ans)\n",
    "print(l)\n",
    "    \n",
    "    "
   ]
  },
  {
   "cell_type": "raw",
   "id": "4ab3ebbf-466e-4c06-9968-1a17e936400c",
   "metadata": {},
   "source": [
    "Question 2:\n",
    "Write a program which takes 2 digits, X,Y as input and generates a 2-dimensional array. The\n",
    "element value in the i-th row and j-th column of the array should be i*j.\n",
    "Note: i=0,1.., X-1; j=0,1,¡Y-1.\n",
    "Example\n",
    "Suppose the following inputs are given to the program:\n",
    "3,5\n",
    "Then, the output of the program should be:\n",
    "[[0, 0, 0, 0, 0], [0, 1, 2, 3, 4], [0, 2, 4, 6, 8]]"
   ]
  },
  {
   "cell_type": "code",
   "execution_count": 16,
   "id": "6d78054d-7e84-4330-ac80-65bf6e91b853",
   "metadata": {},
   "outputs": [
    {
     "name": "stdin",
     "output_type": "stream",
     "text": [
      "Enter x :  3\n",
      "enter y :  5\n"
     ]
    },
    {
     "name": "stdout",
     "output_type": "stream",
     "text": [
      "Enter the element :\n"
     ]
    },
    {
     "data": {
      "text/plain": [
       "[[0, 0, 0, 0, 0], [0, 1, 2, 3, 4], [0, 2, 4, 6, 8]]"
      ]
     },
     "execution_count": 16,
     "metadata": {},
     "output_type": "execute_result"
    }
   ],
   "source": [
    "def ABC(n,m):\n",
    "    \n",
    "    A=[]             \n",
    "    print(\"Enter the element :\")\n",
    "    for i in range(n):\n",
    "        #store row\n",
    "        row =[]\n",
    "        for j in range(m):\n",
    "            row.append(i*j)\n",
    "        A.append(row)\n",
    "    return(A)\n",
    "\n",
    "x = int(input(\"Enter x : \"))\n",
    "y = int(input(\"enter y : \"))\n",
    "ABC(x,y)"
   ]
  },
  {
   "cell_type": "raw",
   "id": "641442ec-af45-4495-9e28-fd581dcb5056",
   "metadata": {},
   "source": [
    "Question 3:\n",
    "Write a program that accepts a comma separated sequence of words as input and prints the\n",
    "words in a comma-separated sequence after sorting them alphabetically.\n",
    "Suppose the following input is supplied to the program:\n",
    "without,hello,bag,world\n",
    "Then, the output should be:\n",
    "bag,hello,without,world"
   ]
  },
  {
   "cell_type": "code",
   "execution_count": 31,
   "id": "c8cfaf41-19f8-42ef-8493-25c7a2120768",
   "metadata": {},
   "outputs": [
    {
     "name": "stdin",
     "output_type": "stream",
     "text": [
      " without,hello,bag,world\n"
     ]
    },
    {
     "name": "stdout",
     "output_type": "stream",
     "text": [
      "bag,hello,without,world\n"
     ]
    }
   ],
   "source": [
    "words=list(input().split(','))\n",
    "words.sort()    \n",
    "print(','.join(words))"
   ]
  },
  {
   "cell_type": "raw",
   "id": "c17710bf-61cd-4cfb-94c4-d454db141ea9",
   "metadata": {},
   "source": [
    "Question 4:\n",
    "Write a program that accepts a sequence of whitespace separated words as input and prints\n",
    "the words after removing all duplicate words and sorting them alphanumerically.\n",
    "Suppose the following input is supplied to the program:\n",
    "hello world and practice makes perfect and hello world again\n",
    "Then, the output should be:\n",
    "again and hello makes perfect practice world"
   ]
  },
  {
   "cell_type": "code",
   "execution_count": 36,
   "id": "693ed574-3560-4ba1-9be4-de9460e07a18",
   "metadata": {},
   "outputs": [
    {
     "name": "stdin",
     "output_type": "stream",
     "text": [
      " hello world and practice makes perfect and hello world again\n"
     ]
    },
    {
     "name": "stdout",
     "output_type": "stream",
     "text": [
      "again and hello makes perfect practice world\n"
     ]
    }
   ],
   "source": [
    "#Ans:\n",
    "dw=list(input().split())\n",
    "k=list(set(dw))\n",
    "k.sort()\n",
    "print(' '.join(k))"
   ]
  },
  {
   "cell_type": "raw",
   "id": "84ce45ce-30ca-4e8d-9562-99bcbcad3f05",
   "metadata": {},
   "source": [
    "Question 5:\n",
    "Write a program that accepts a sentence and calculate the number of letters and digits.\n",
    "Suppose the following input is supplied to the program:\n",
    "hello world! 123\n",
    "Then, the output should be:\n",
    "LETTERS 10\n",
    "DIGITS 3"
   ]
  },
  {
   "cell_type": "code",
   "execution_count": 37,
   "id": "78f08d64-5eae-4a03-b1ca-0145d4264983",
   "metadata": {},
   "outputs": [
    {
     "name": "stdin",
     "output_type": "stream",
     "text": [
      "Input a string :  hello world! 123\n"
     ]
    },
    {
     "name": "stdout",
     "output_type": "stream",
     "text": [
      "Letters 10\n",
      "Digits 3\n"
     ]
    }
   ],
   "source": [
    "a = input(\"Input a string : \")\n",
    "digits=letters=0\n",
    "for i in a:\n",
    "    if i.isdigit():\n",
    "        digits += 1\n",
    "    elif i.isalpha():\n",
    "        letters += 1\n",
    "    else:\n",
    "        pass\n",
    "print(\"Letters\", letters)\n",
    "print(\"Digits\", digits)\n",
    "     "
   ]
  },
  {
   "cell_type": "raw",
   "id": "12512f67-6eaa-448e-b26a-4646bc43db62",
   "metadata": {},
   "source": [
    "Question 6:\n",
    "A website requires the users to input username and password to register. Write a program to\n",
    "check the validity of password input by users.\n",
    "Following are the criteria for checking the password:\n",
    "1. At least 1 letter between [a-z]\n",
    "2. At least 1 number between [0-9]\n",
    "1. At least 1 letter between [A-Z]\n",
    "3. At least 1 character from [$#@]\n",
    "4. Minimum length of transaction password: 6\n",
    "5. Maximum length of transaction password: 12\n",
    "Your program should accept a sequence of comma separated passwords and will check them\n",
    "according to the above criteria. Passwords that match the criteria are to be printed, each\n",
    "separated by a comma.\n",
    "Example\n",
    "If the following passwords are given as input to the program:\n",
    "ABd1234@1,a F1#,2w3E*,2We3345\n",
    "Then, the output of the program should be:\n",
    "ABd1234@1"
   ]
  },
  {
   "cell_type": "code",
   "execution_count": 40,
   "id": "9025e08e-10a7-46f9-8411-556f6f4f8623",
   "metadata": {},
   "outputs": [
    {
     "name": "stdin",
     "output_type": "stream",
     "text": [
      "Enter your password :  ABd1234@1\n"
     ]
    },
    {
     "name": "stdout",
     "output_type": "stream",
     "text": [
      "Valid Password\n"
     ]
    }
   ],
   "source": [
    "import re\n",
    "password= input(\"Enter your password : \")\n",
    "x = True\n",
    "while x:  \n",
    "    if (len(password) < 6 or len(password) > 12):\n",
    "        break\n",
    "    elif not re.search(\"[a-z]\",password):\n",
    "        break\n",
    "    elif not re.search(\"[0-9]\",password):\n",
    "        break\n",
    "    elif not re.search(\"[A-Z]\",password):\n",
    "        break\n",
    "    elif not re.search(\"[$#@]\",password):\n",
    "        break\n",
    "    elif re.search(\"\\s\",password):\n",
    "        break\n",
    "    else:\n",
    "        print(\"Valid Password\")\n",
    "        x=False\n",
    "        break\n",
    "\n",
    "if x:\n",
    "    print(\"Not a Valid Password\")"
   ]
  },
  {
   "cell_type": "code",
   "execution_count": null,
   "id": "5da722cd-1543-47de-9b0a-3328d2336cb2",
   "metadata": {},
   "outputs": [],
   "source": []
  }
 ],
 "metadata": {
  "kernelspec": {
   "display_name": "Python 3 (ipykernel)",
   "language": "python",
   "name": "python3"
  },
  "language_info": {
   "codemirror_mode": {
    "name": "ipython",
    "version": 3
   },
   "file_extension": ".py",
   "mimetype": "text/x-python",
   "name": "python",
   "nbconvert_exporter": "python",
   "pygments_lexer": "ipython3",
   "version": "3.10.6"
  }
 },
 "nbformat": 4,
 "nbformat_minor": 5
}
