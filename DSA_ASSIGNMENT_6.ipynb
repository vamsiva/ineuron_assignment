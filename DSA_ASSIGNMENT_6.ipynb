{
 "cells": [
  {
   "cell_type": "markdown",
   "id": "26d0aeff-357f-426b-ad58-1776d5c958d5",
   "metadata": {},
   "source": [
    "<aside>\n",
    "💡 **Question 1**\n",
    "\n",
    "A permutation perm of n + 1 integers of all the integers in the range [0, n] can be represented as a string s of length n where:\n",
    "\n",
    "- s[i] == 'I' if perm[i] < perm[i + 1], and\n",
    "- s[i] == 'D' if perm[i] > perm[i + 1].\n",
    "\n",
    "Given a string s, reconstruct the permutation perm and return it. If there are multiple valid permutations perm, return **any of them**.\n",
    "\n",
    "**Example 1:**\n",
    "\n",
    "**Input:** s = \"IDID\"\n",
    "\n",
    "**Output:**\n",
    "\n",
    "[0,4,1,3,2]\n",
    "\n",
    "</aside>"
   ]
  },
  {
   "cell_type": "code",
   "execution_count": 2,
   "id": "faa50d73-f50f-476a-b61c-bdacb345ea03",
   "metadata": {},
   "outputs": [
    {
     "name": "stdout",
     "output_type": "stream",
     "text": [
      "[0, 4, 1, 3, 2]\n"
     ]
    }
   ],
   "source": [
    "def diStringMatch(s):\n",
    "        num=[i for i in range(len(s)+1)]\n",
    "        l=0\n",
    "        r=len(num)-1\n",
    "        i=0\n",
    "        re=[]\n",
    "        while(l<r):\n",
    "            if s[i]=='I':\n",
    "                re.append(num[l])\n",
    "                l+=1\n",
    "                \n",
    "            else:\n",
    "                re.append(num[r])\n",
    "                r-=1\n",
    "            i+=1\n",
    "        re.append(l)\n",
    "        return re\n",
    "s=\"IDID\"\n",
    "print(diStringMatch(s))"
   ]
  },
  {
   "cell_type": "markdown",
   "id": "3e9d5500-a9e0-481e-8699-00c0ab944621",
   "metadata": {},
   "source": [
    "<aside>\n",
    "💡 **Question 2**\n",
    "\n",
    "You are given an m x n integer matrix matrix with the following two properties:\n",
    "\n",
    "- Each row is sorted in non-decreasing order.\n",
    "- The first integer of each row is greater than the last integer of the previous row.\n",
    "\n",
    "Given an integer target, return true *if* target *is in* matrix *or* false *otherwise*.\n",
    "\n",
    "You must write a solution in O(log(m * n)) time complexity.\n",
    "\n",
    "**Example 1:**\n",
    "\n",
    "</aside>\n",
    "**Input:** matrix = [[1,3,5,7],[10,11,16,20],[23,30,34,60]], target = 3\n",
    "\n",
    "**Output:** true"
   ]
  },
  {
   "cell_type": "code",
   "execution_count": null,
   "id": "176ef393-ab5f-4ac0-a1bb-9dbc3e53e38c",
   "metadata": {},
   "outputs": [],
   "source": [
    "matrix = [[1,3,5,7],[10,11,16,20],[23,30,34,60]]\n",
    "target = 3\n",
    "def searchMatrix(matrix, target):\n",
    "        lm=len(matrix)\n",
    "        r=len(matrix[0])-1\n",
    "        m=0\n",
    "        for i in range(lm):\n",
    "            if target<=matrix[i][r]:\n",
    "                m=i\n",
    "                break\n",
    "            \n",
    "        l=0\n",
    "        while(l<=r):\n",
    "            mid=(l+r)//2\n",
    "            if matrix[m][mid]==target:\n",
    "                return True\n",
    "            elif matrix[m][mid]<target:\n",
    "                l=mid+1\n",
    "            else:\n",
    "                r=mid-1\n",
    "        return False     \n",
    "searchMatrix(matri"
   ]
  },
  {
   "cell_type": "markdown",
   "id": "19d8297b-7f43-4ade-a143-ca30c0a6f8a2",
   "metadata": {},
   "source": [
    "<aside>\n",
    "💡 **Question 3**\n",
    "\n",
    "Given an array of integers arr, return *true if and only if it is a valid mountain array*.\n",
    "\n",
    "Recall that arr is a mountain array if and only if:\n",
    "\n",
    "- arr.length >= 3\n",
    "- There exists some i with 0 < i < arr.length - 1 such that:\n",
    "    - arr[0] < arr[1] < ... < arr[i - 1] < arr[i]\n",
    "    - arr[i] > arr[i + 1] > ... > arr[arr.length - 1]\n",
    "</aside>\n",
    "**Example 1:**\n",
    "\n",
    "**Input:** arr = [2,1]\n",
    "\n",
    "**Output:**\n",
    "\n",
    "false"
   ]
  },
  {
   "cell_type": "code",
   "execution_count": null,
   "id": "28db7c4e-b185-49a1-93e9-bfeb9fe31c28",
   "metadata": {},
   "outputs": [],
   "source": [
    "#ANS:\n",
    "print(\"hi\")"
   ]
  },
  {
   "cell_type": "markdown",
   "id": "ad5faabe-0842-473f-954b-8130ef6ce0d6",
   "metadata": {},
   "source": [
    "<aside>\n",
    "💡 **Question 4**\n",
    "\n",
    "Given a binary array nums, return *the maximum length of a contiguous subarray with an equal number of* 0 *and* 1.\n",
    "\n",
    "**Example 1:**\n",
    "\n",
    "**Input:** nums = [0,1]\n",
    "\n",
    "**Output:** 2\n",
    "\n",
    "**Explanation:**\n",
    "\n",
    "[0, 1] is the longest contiguous subarray with an equal number of 0 and 1.\n",
    "\n",
    "</aside>"
   ]
  },
  {
   "cell_type": "code",
   "execution_count": 5,
   "id": "ca0a308f-7653-4c8a-8fd8-1ba13eb169ed",
   "metadata": {},
   "outputs": [],
   "source": [
    "#ANS:"
   ]
  },
  {
   "cell_type": "markdown",
   "id": "e0553512-526d-49ef-8c15-8c7a6a4e3037",
   "metadata": {},
   "source": [
    "<aside>\n",
    "💡 **Question 5**\n",
    "\n",
    "The **product sum** of two equal-length arrays a and b is equal to the sum of a[i] * b[i] for all 0 <= i < a.length (**0-indexed**).\n",
    "\n",
    "- For example, if a = [1,2,3,4] and b = [5,2,3,1], the **product sum** would be 1*5 + 2*2 + 3*3 + 4*1 = 22.\n",
    "\n",
    "Given two arrays nums1 and nums2 of length n, return *the **minimum product sum** if you are allowed to **rearrange** the **order** of the elements in* nums1.\n",
    "\n",
    "**Example 1:**\n",
    "\n",
    "**Input:** nums1 = [5,3,4,2], nums2 = [4,2,2,5]\n",
    "\n",
    "**Output:** 40\n",
    "\n",
    "**Explanation:**\n",
    "\n",
    "We can rearrange nums1 to become [3,5,4,2]. The product sum of [3,5,4,2] and [4,2,2,5] is 3*4 + 5*2 + 4*2 + 2*5 = 40.\n",
    "\n",
    "</aside>"
   ]
  },
  {
   "cell_type": "code",
   "execution_count": 6,
   "id": "33e1160a-0347-49f5-a70f-f68abae2b9cd",
   "metadata": {},
   "outputs": [],
   "source": [
    "#ANS:"
   ]
  },
  {
   "cell_type": "markdown",
   "id": "e9e46e6c-a386-4b21-b210-7bfbacde6fe7",
   "metadata": {},
   "source": [
    "<aside>\n",
    "💡 **Question 6**\n",
    "\n",
    "An integer array original is transformed into a **doubled** array changed by appending **twice the value** of every element in original, and then randomly **shuffling** the resulting array.\n",
    "\n",
    "Given an array changed, return original *if* changed *is a **doubled** array. If* changed *is not a **doubled** array, return an empty array. The elements in* original *may be returned in **any** order*.\n",
    "\n",
    "**Example 1:**\n",
    "\n",
    "**Input:** changed = [1,3,4,2,6,8]\n",
    "\n",
    "**Output:** [1,3,4]\n",
    "\n",
    "**Explanation:** One possible original array could be [1,3,4]:\n",
    "\n",
    "- Twice the value of 1 is 1 * 2 = 2.\n",
    "- Twice the value of 3 is 3 * 2 = 6.\n",
    "- Twice the value of 4 is 4 * 2 = 8.\n",
    "\n",
    "Other original arrays could be [4,3,1] or [3,1,4].\n",
    "\n",
    "</aside>\n",
    "\n"
   ]
  },
  {
   "cell_type": "code",
   "execution_count": 7,
   "id": "6ecb4435-187e-40d9-b0c3-db45b621d006",
   "metadata": {},
   "outputs": [],
   "source": [
    "#ANS:"
   ]
  },
  {
   "cell_type": "markdown",
   "id": "a7b31995-0054-483d-8aba-82b7fc558c36",
   "metadata": {},
   "source": [
    "<aside>\n",
    "💡 **Question 7**\n",
    "\n",
    "Given a positive integer n, generate an n x n matrix filled with elements from 1 to n2 in spiral order.\n",
    "\n",
    "**Example 1:**\n",
    "\n",
    "</aside>\n",
    "\n",
    "**Input:** n = 3\n",
    "\n",
    "**Output:** [[1,2,3],[8,9,4],[7,6,5]]"
   ]
  },
  {
   "cell_type": "code",
   "execution_count": 9,
   "id": "766f571e-c1d6-425d-8816-c2244ae0faca",
   "metadata": {},
   "outputs": [],
   "source": [
    "#ANS:\n"
   ]
  },
  {
   "cell_type": "markdown",
   "id": "d7e1847b-4e02-49fc-84d8-1614a6c8a3b1",
   "metadata": {},
   "source": [
    "<aside>\n",
    "💡 **Question 8**\n",
    "\n",
    "Given two [sparse matrices](https://en.wikipedia.org/wiki/Sparse_matrix) mat1 of size m x k and mat2 of size k x n, return the result of mat1 x mat2. You may assume that multiplication is always possible.\n",
    "\n",
    "**Example 1:**\n",
    "\n",
    "</aside>\n",
    "\n",
    "**Input:** mat1 = [[1,0,0],[-1,0,3]], mat2 = [[7,0,0],[0,0,0],[0,0,1]]\n",
    "\n",
    "**Output:**\n",
    "\n",
    "[[7,0,0],[-7,0,3]]"
   ]
  },
  {
   "cell_type": "code",
   "execution_count": 10,
   "id": "9e27cc59-1224-424e-b843-d48ae1bb35e5",
   "metadata": {},
   "outputs": [],
   "source": [
    "#ANS:"
   ]
  },
  {
   "cell_type": "code",
   "execution_count": null,
   "id": "9f86fdfc-a26d-4c82-8e56-034c9828785f",
   "metadata": {},
   "outputs": [],
   "source": []
  }
 ],
 "metadata": {
  "kernelspec": {
   "display_name": "Python 3 (ipykernel)",
   "language": "python",
   "name": "python3"
  },
  "language_info": {
   "codemirror_mode": {
    "name": "ipython",
    "version": 3
   },
   "file_extension": ".py",
   "mimetype": "text/x-python",
   "name": "python",
   "nbconvert_exporter": "python",
   "pygments_lexer": "ipython3",
   "version": "3.10.6"
  }
 },
 "nbformat": 4,
 "nbformat_minor": 5
}
