{
 "cells": [
  {
   "cell_type": "code",
   "execution_count": 14,
   "id": "33b93d98-b412-47c7-a2bb-ffdb3595544a",
   "metadata": {},
   "outputs": [
    {
     "name": "stdin",
     "output_type": "stream",
     "text": [
      "Enter the number to find the factorial: 5\n"
     ]
    },
    {
     "name": "stdout",
     "output_type": "stream",
     "text": [
      "The factorial of 5 is 120\n"
     ]
    }
   ],
   "source": [
    "#1. Write a Python Program to Find the Factorial of a Number?\n",
    "n=int(input(\"Enter the number to find the factorial:\"))\n",
    "fact=1\n",
    "for i in range(1,n+1):\n",
    "    fact=fact*i\n",
    "print(f\"The factorial of {n} is {fact}\")    \n"
   ]
  },
  {
   "cell_type": "code",
   "execution_count": 2,
   "id": "1deb85fd-87b2-4b8c-8baa-2380c5f26940",
   "metadata": {},
   "outputs": [
    {
     "name": "stdin",
     "output_type": "stream",
     "text": [
      "Enter which multiplication table you want: 5\n"
     ]
    },
    {
     "name": "stdout",
     "output_type": "stream",
     "text": [
      "5*0=0\n",
      "5*1=5\n",
      "5*2=10\n",
      "5*3=15\n",
      "5*4=20\n",
      "5*5=25\n",
      "5*6=30\n",
      "5*7=35\n",
      "5*8=40\n",
      "5*9=45\n"
     ]
    }
   ],
   "source": [
    "#2. Write a Python Program to Display the multiplication Table?\n",
    "n1=int(input(\"Enter which multiplication table you want:\"))\n",
    "for i in range(10):\n",
    "    mul=n1*i\n",
    "    print(f\"{n1}*{i}={mul}\")"
   ]
  },
  {
   "cell_type": "code",
   "execution_count": 11,
   "id": "af670ae2-c11b-404c-9f3a-70ab614a4d42",
   "metadata": {},
   "outputs": [
    {
     "name": "stdout",
     "output_type": "stream",
     "text": [
      "Fibonacci Series: 0 1 1 2 3 5 8 13 21 34 55 89 144 233 377 610 987 1597 2584 4181 \n"
     ]
    }
   ],
   "source": [
    "#3. Write a Python Program to Print the Fibonacci sequence?\n",
    "num=20\n",
    "n1, n2 = 0, 1\n",
    "print(\"Fibonacci Series:\", n1, n2, end=\" \")\n",
    "for i in range(2, num):\n",
    "    n3 = n1 + n2\n",
    "    n1 = n2\n",
    "    n2 = n3\n",
    "    print(n3, end=\" \")\n",
    "\n",
    "print()\n"
   ]
  },
  {
   "cell_type": "code",
   "execution_count": 18,
   "id": "0d895152-b920-497b-bf5d-1accc494dda8",
   "metadata": {},
   "outputs": [
    {
     "name": "stdin",
     "output_type": "stream",
     "text": [
      "Enter a number to check it is armstrong or not: 153\n"
     ]
    },
    {
     "name": "stdout",
     "output_type": "stream",
     "text": [
      "The given number 153 is an armstrong number\n"
     ]
    }
   ],
   "source": [
    "#4. Write a Python Program to Check Armstrong Number?\n",
    "n2=int(input(\"Enter a number to check it is armstrong or not:\"))\n",
    "t=n2\n",
    "l=len(str(n2))\n",
    "#print(l)\n",
    "sum=0\n",
    "for i in range(l):\n",
    "    last=n2%10\n",
    "    #print(last)\n",
    "    sum=sum+(last**3)\n",
    "    n2=n2//10\n",
    "if sum==t:\n",
    "    print(f\"The given number {t} is an armstrong number\")\n",
    "else:\n",
    "    print(f\"The given number {t} is not an armstrong number\")\n",
    "    "
   ]
  },
  {
   "cell_type": "code",
   "execution_count": 9,
   "id": "760d712c-5622-45f4-ab9e-8f1f435685fd",
   "metadata": {},
   "outputs": [
    {
     "name": "stdin",
     "output_type": "stream",
     "text": [
      "Enter the number to check the armstrong numbers in between them: 10\n",
      " 1000\n"
     ]
    },
    {
     "name": "stdout",
     "output_type": "stream",
     "text": [
      "The number 153 an armstrong number\n",
      "The number 370 an armstrong number\n",
      "The number 371 an armstrong number\n",
      "The number 407 an armstrong number\n"
     ]
    }
   ],
   "source": [
    "#5. Write a Python Program to Find Armstrong Number in an Interval?\n",
    "n3=int(input(\"Enter the number to check the armstrong numbers in between them:\"))\n",
    "n4=int(input())\n",
    "print(f\"The armstrong numbers between _\n",
    "for i in range(n3,n4):\n",
    "    n2=i\n",
    "    t=n2\n",
    "    l=len(str(n2))\n",
    "    #print(l)\n",
    "    sum=0\n",
    "    for i in range(l):\n",
    "        last=n2%10\n",
    "        #print(last)\n",
    "        sum=sum+(last**3)\n",
    "        n2=n2//10\n",
    "    if sum==t:\n",
    "        print(f\"The number {t} an armstrong number\")\n",
    "    \n",
    "   "
   ]
  },
  {
   "cell_type": "code",
   "execution_count": 10,
   "id": "1177e141-3c8b-47f2-b31e-3a991800f999",
   "metadata": {},
   "outputs": [
    {
     "name": "stdin",
     "output_type": "stream",
     "text": [
      "Enter the number to find the sum of natural numbers until it 5\n"
     ]
    },
    {
     "name": "stdout",
     "output_type": "stream",
     "text": [
      "The sum of natural numbers is :15\n"
     ]
    }
   ],
   "source": [
    "#6. Write a Python Program to Find the Sum of Natural Numbers?\n",
    "n4=int(input(\"Enter the number to find the sum of natural numbers until it\"))\n",
    "sum=0\n",
    "for i in range(n4+1):\n",
    "    sum=sum+i\n",
    "print(f\"The sum of natural numbers is :{sum}\")\n"
   ]
  },
  {
   "cell_type": "code",
   "execution_count": null,
   "id": "69973225-84e8-4daf-ae68-67443e841d6f",
   "metadata": {},
   "outputs": [],
   "source": []
  }
 ],
 "metadata": {
  "kernelspec": {
   "display_name": "Python 3 (ipykernel)",
   "language": "python",
   "name": "python3"
  },
  "language_info": {
   "codemirror_mode": {
    "name": "ipython",
    "version": 3
   },
   "file_extension": ".py",
   "mimetype": "text/x-python",
   "name": "python",
   "nbconvert_exporter": "python",
   "pygments_lexer": "ipython3",
   "version": "3.10.6"
  }
 },
 "nbformat": 4,
 "nbformat_minor": 5
}
