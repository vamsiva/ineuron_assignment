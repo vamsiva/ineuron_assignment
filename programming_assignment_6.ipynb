{
 "cells": [
  {
   "cell_type": "code",
   "execution_count": 63,
   "id": "2f7f818d-05e8-4ca5-a676-76ffec281139",
   "metadata": {},
   "outputs": [
    {
     "name": "stdin",
     "output_type": "stream",
     "text": [
      "Enter how many terms do you want to print: 9\n"
     ]
    },
    {
     "name": "stdout",
     "output_type": "stream",
     "text": [
      "Fibonacci sequence:upto 9\n",
      "0\n",
      "1\n",
      "1\n",
      "2\n",
      "3\n",
      "5\n",
      "8\n",
      "13\n",
      "21\n"
     ]
    }
   ],
   "source": [
    "#1. Write a Python Program to Display Fibonacci Sequence Using Recursion?\n",
    "\n",
    "def fib(n):\n",
    "   if n <= 1:\n",
    "       return n\n",
    "   else:\n",
    "       return(fib(n-1) + fib(n-2))\n",
    "\n",
    "nterms=int(input(\"Enter how many terms do you want to print:\"))\n",
    "if nterms <= 0:\n",
    "   print(\"Plese enter a positive integer\")\n",
    "else:\n",
    "   print(\"Fibonacci sequence:upto\", nterms)\n",
    "   for i in range(nterms):\n",
    "       print(fib(i))"
   ]
  },
  {
   "cell_type": "code",
   "execution_count": 46,
   "id": "57ca2a3d-2a0c-4d17-b11b-f4055c66b13b",
   "metadata": {},
   "outputs": [
    {
     "name": "stdin",
     "output_type": "stream",
     "text": [
      "Enter the number to find it's factorial: 5\n"
     ]
    },
    {
     "name": "stdout",
     "output_type": "stream",
     "text": [
      "The factorial of 5 is 120\n"
     ]
    }
   ],
   "source": [
    "#2. Write a Python Program to Find Factorial of Number Using Recursion?\n",
    "n=int(input(\"Enter the number to find it's factorial:\"))\n",
    "def fact(n):\n",
    "    return 1 if n==1 else n*fact(n-1)\n",
    "    \"\"\"if n==1:\n",
    "        return 1\n",
    "    else:\n",
    "        return(n*fact(n-1))\"\"\"\n",
    "        \n",
    "print(f\"The factorial of {n} is {fact(n)}\")\n",
    "\n"
   ]
  },
  {
   "cell_type": "code",
   "execution_count": 23,
   "id": "0eb7ef93-3116-4900-946d-789f04481e02",
   "metadata": {},
   "outputs": [
    {
     "name": "stdin",
     "output_type": "stream",
     "text": [
      "Enter the height of the person in meters: 5.8\n",
      "Enter the weight of the person in kgs: 64\n"
     ]
    },
    {
     "name": "stdout",
     "output_type": "stream",
     "text": [
      "The body mass index is : 1.9\n"
     ]
    }
   ],
   "source": [
    "#3. Write a Python Program to calculate your Body Mass Index?\n",
    "height=float(input(\"Enter the height of the person in meters:\"))\n",
    "weight=float(input(\"Enter the weight of the person in kgs:\"))\n",
    "h2=height**2\n",
    "bmi=weight/h2\n",
    "print(\"The body mass index is :\", round(bmi,2))"
   ]
  },
  {
   "cell_type": "code",
   "execution_count": 9,
   "id": "4e977698-c7e1-441a-9e5b-48e5a80349e7",
   "metadata": {},
   "outputs": [
    {
     "name": "stdin",
     "output_type": "stream",
     "text": [
      "Enter a number natural log for it. 10\n"
     ]
    },
    {
     "name": "stdout",
     "output_type": "stream",
     "text": [
      "The natural logirithm for 10 is 2.302585092994046\n"
     ]
    }
   ],
   "source": [
    "#4. Write a Python Program to calculate the natural logarithm of any number?\n",
    "import math\n",
    "n=int(input(\"Enter a number natural log for it.\"))\n",
    "print(f\"The natural logirithm for {n} is {math.log(n)}\")"
   ]
  },
  {
   "cell_type": "code",
   "execution_count": 11,
   "id": "1c9983c7-2dca-4b35-9856-aeec0b377908",
   "metadata": {},
   "outputs": [
    {
     "name": "stdin",
     "output_type": "stream",
     "text": [
      "Enter the a number to print cube sum of first n natural numbers: 4\n"
     ]
    },
    {
     "name": "stdout",
     "output_type": "stream",
     "text": [
      "The cube sum of first 4 natural numbers is 100\n"
     ]
    }
   ],
   "source": [
    "#5. Write a Python Program for cube sum of first n natural numbers?\n",
    "upto=int(input(\"Enter the a number to print cube sum of first n natural numbers:\"))\n",
    "cube_sum=0\n",
    "for i in range(upto+1):\n",
    "    cube_sum=cube_sum+i**3\n",
    "print(f\"The cube sum of first {upto} natural numbers is {cube_sum}\")    "
   ]
  },
  {
   "cell_type": "code",
   "execution_count": null,
   "id": "7779535b-b8d6-4d97-afe7-1f53b0e4bc88",
   "metadata": {},
   "outputs": [],
   "source": []
  }
 ],
 "metadata": {
  "kernelspec": {
   "display_name": "Python 3 (ipykernel)",
   "language": "python",
   "name": "python3"
  },
  "language_info": {
   "codemirror_mode": {
    "name": "ipython",
    "version": 3
   },
   "file_extension": ".py",
   "mimetype": "text/x-python",
   "name": "python",
   "nbconvert_exporter": "python",
   "pygments_lexer": "ipython3",
   "version": "3.10.6"
  }
 },
 "nbformat": 4,
 "nbformat_minor": 5
}
