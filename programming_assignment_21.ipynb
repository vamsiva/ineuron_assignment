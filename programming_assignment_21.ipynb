{
 "cells": [
  {
   "cell_type": "markdown",
   "id": "d9c01e40-5656-42d1-91c1-436c8c4264a3",
   "metadata": {},
   "source": [
    "Question1\n",
    "\n",
    "Write a function that takes a list and a number as arguments. Add the number to the end of\n",
    "the list, then remove the first element of the list. The function should then return the updated\n",
    "list.\n",
    "Examples\n",
    "next_in_line([5, 6, 7, 8, 9], 1) ➞ [6, 7, 8, 9, 1]\n",
    "next_in_line([7, 6, 3, 23, 17], 10) ➞ [6, 3, 23, 17, 10]\n",
    "next_in_line([1, 10, 20, 42 ], 6) ➞ [10, 20, 42, 6]\n",
    "next_in_line([], 6) ➞ &quot;No list has been selected&quot;"
   ]
  },
  {
   "cell_type": "code",
   "execution_count": 2,
   "id": "815d8b4c-cbe2-4ed2-801d-07c770a5e382",
   "metadata": {},
   "outputs": [
    {
     "data": {
      "text/plain": [
       "[6, 7, 8, 9, 1]"
      ]
     },
     "execution_count": 2,
     "metadata": {},
     "output_type": "execute_result"
    }
   ],
   "source": [
    "lst = [5, 6, 7, 8, 9]\n",
    "def next_in_line(lst,num):\n",
    "    if len(lst) > 0 :\n",
    "        lst.append(num)\n",
    "        return lst[1:]\n",
    "    else:\n",
    "        print(\"'No list has been selected'\")\n",
    "next_in_line([5, 6, 7, 8, 9], 1)"
   ]
  },
  {
   "cell_type": "markdown",
   "id": "f075386f-ec8f-4fbc-845d-95dcb01b026e",
   "metadata": {},
   "source": [
    "Question2\n",
    "\n",
    "\n",
    "Create the function that takes a list of dictionaries and returns the sum of people&#39;s budgets.\n",
    "Examples\n",
    "get_budgets([\n",
    "{ &quot;name&quot;: &quot;John&quot;, &quot;age&quot;: 21, &quot;budget&quot;: 23000 },\n",
    "{ &quot;name&quot;: &quot;Steve&quot;, &quot;age&quot;: 32, &quot;budget&quot;: 40000 },\n",
    "{ &quot;name&quot;: &quot;Martin&quot;, &quot;age&quot;: 16, &quot;budget&quot;: 2700 }\n",
    "]) ➞ 65700\n",
    "get_budgets([\n",
    "{ &quot;name&quot;: &quot;John&quot;, &quot;age&quot;: 21, &quot;budget&quot;: 29000 },\n",
    "{ &quot;name&quot;: &quot;Steve&quot;, &quot;age&quot;: 32, &quot;budget&quot;: 32000 },\n",
    "{ &quot;name&quot;: &quot;Martin&quot;, &quot;age&quot;: 16, &quot;budget&quot;: 1600 }\n",
    "]) ➞ 62600"
   ]
  },
  {
   "cell_type": "code",
   "execution_count": 3,
   "id": "16cdfde3-177d-4737-9ed8-b3ec8d7ef77d",
   "metadata": {},
   "outputs": [],
   "source": [
    "def get_budgets(listDict):\n",
    "    sum = 0\n",
    "    for dc in listDict:\n",
    "        for k,v in dc.items():\n",
    "            if k == 'budget':\n",
    "                sum = sum + v\n",
    "    return sum\n",
    "     "
   ]
  },
  {
   "cell_type": "code",
   "execution_count": 4,
   "id": "c6a12efc-8e4f-49c5-a927-122f63c31082",
   "metadata": {},
   "outputs": [
    {
     "data": {
      "text/plain": [
       "65700"
      ]
     },
     "execution_count": 4,
     "metadata": {},
     "output_type": "execute_result"
    }
   ],
   "source": [
    "get_budgets([\n",
    "{ 'name': 'John', 'age': 21, 'budget': 23000 },\n",
    "{ 'name': 'Steve', 'age': 32, 'budget': 40000 },\n",
    "{ 'name': 'Martin', 'age': 16, 'budget': 2700 }\n",
    "])"
   ]
  },
  {
   "cell_type": "markdown",
   "id": "eac7b77a-1bbc-4007-b7bd-21da2c0689c9",
   "metadata": {},
   "source": [
    "Question3\n",
    "Create a function that takes a string and returns a string with its letters in alphabetical order.\n",
    "Examples\n",
    "alphabet_soup(&quot;hello&quot;) ➞ &quot;ehllo&quot;\n",
    "alphabet_soup(&quot;edabit&quot;) ➞ &quot;abdeit&quot;\n",
    "alphabet_soup(&quot;hacker&quot;) ➞ &quot;acehkr&quot;\n",
    "alphabet_soup(&quot;geek&quot;) ➞ &quot;eegk&quot;\n",
    "alphabet_soup(&quot;javascript&quot;) ➞ &quot;aacijprstv&quot;"
   ]
  },
  {
   "cell_type": "code",
   "execution_count": 5,
   "id": "4c6ef923-7b46-41df-b373-36a5171b0ebe",
   "metadata": {},
   "outputs": [
    {
     "data": {
      "text/plain": [
       "'ehllo'"
      ]
     },
     "execution_count": 5,
     "metadata": {},
     "output_type": "execute_result"
    }
   ],
   "source": [
    "def alphabet_soup(str):\n",
    "    return ''.join(sorted(str))\n",
    "alphabet_soup('hello')"
   ]
  },
  {
   "cell_type": "markdown",
   "id": "91cdaf48-a229-4dd5-a02a-b59b3baaf5be",
   "metadata": {},
   "source": [
    "Question4\n",
    "\n",
    "\n",
    "Suppose that you invest $10,000 for 10 years at an interest rate of 6% compounded monthly.\n",
    "What will be the value of your investment at the end of the 10 year period?\n",
    "Create a function that accepts the principal p, the term in years t, the interest rate r, and the\n",
    "number of compounding periods per year n. The function returns the value at the end of term\n",
    "rounded to the nearest cent.\n",
    "For the example above:\n",
    "compound_interest(10000, 10, 0.06, 12) ➞ 18193.97\n",
    "Note that the interest rate is given as a decimal and n=12 because with monthly compounding\n",
    "there are 12 periods per year. Compounding can also be done annually, quarterly, weekly, or\n",
    "daily.\n",
    "Examples\n",
    "compound_interest(100, 1, 0.05, 1) ➞ 105.0\n",
    "compound_interest(3500, 15, 0.1, 4) ➞ 15399.26\n",
    "compound_interest(100000, 20, 0.15, 365) ➞ 2007316.26"
   ]
  },
  {
   "cell_type": "code",
   "execution_count": 7,
   "id": "7399ead6-f314-4f47-bcd9-6c813cd60374",
   "metadata": {},
   "outputs": [
    {
     "data": {
      "text/plain": [
       "105.0"
      ]
     },
     "execution_count": 7,
     "metadata": {},
     "output_type": "execute_result"
    }
   ],
   "source": [
    "\n",
    "def compound_interest(amt, years, intrest, compPeriod):\n",
    "    future_value = amt *(1 + (intrest/compPeriod)) ** (years * compPeriod)\n",
    "    return round(future_value,2)\n",
    "compound_interest(100, 1, 0.05, 1)\n",
    "     "
   ]
  },
  {
   "cell_type": "markdown",
   "id": "689eeb42-4b24-4af9-a1db-3544c14e90fe",
   "metadata": {},
   "source": [
    "Question5\n",
    "Write a function that takes a list of elements and returns only the integers.\n",
    "Examples\n",
    "return_only_integer([9, 2, &quot;space&quot;, &quot;car&quot;, &quot;lion&quot;, 16]) ➞ [9, 2, 16]\n",
    "return_only_integer([&quot;hello&quot;, 81, &quot;basketball&quot;, 123, &quot;fox&quot;]) ➞ [81, 123]\n",
    "return_only_integer([10, &quot;121&quot;, 56, 20, &quot;car&quot;, 3, &quot;lion&quot;]) ➞ [10, 56, 20,\n",
    "3]\n",
    "return_only_integer([&quot;String&quot;, True, 3.3, 1]) ➞ [1]"
   ]
  },
  {
   "cell_type": "code",
   "execution_count": 9,
   "id": "52ebcdb4-eed6-4f57-bcc5-c8874bbe657d",
   "metadata": {},
   "outputs": [
    {
     "data": {
      "text/plain": [
       "[9, 2, 16]"
      ]
     },
     "execution_count": 9,
     "metadata": {},
     "output_type": "execute_result"
    }
   ],
   "source": [
    "def return_only_integer(lst):\n",
    "    int_list = []\n",
    "    for i in lst:\n",
    "        if type(i) == int:\n",
    "            int_list.append(i)\n",
    "    return int_list\n",
    "return_only_integer([9, 2, 'space', 'car', 'lion', 16])\n",
    "     "
   ]
  },
  {
   "cell_type": "code",
   "execution_count": null,
   "id": "bdff16c1-5368-4c35-90cc-9c3f7cb5e0fc",
   "metadata": {},
   "outputs": [],
   "source": []
  }
 ],
 "metadata": {
  "kernelspec": {
   "display_name": "Python 3 (ipykernel)",
   "language": "python",
   "name": "python3"
  },
  "language_info": {
   "codemirror_mode": {
    "name": "ipython",
    "version": 3
   },
   "file_extension": ".py",
   "mimetype": "text/x-python",
   "name": "python",
   "nbconvert_exporter": "python",
   "pygments_lexer": "ipython3",
   "version": "3.10.6"
  }
 },
 "nbformat": 4,
 "nbformat_minor": 5
}
