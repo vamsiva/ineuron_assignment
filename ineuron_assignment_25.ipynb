{
 "cells": [
  {
   "cell_type": "markdown",
   "id": "eb11ac22-2fc1-46d9-bdc4-807911a5dcb3",
   "metadata": {},
   "source": [
    "1) . What is the difference between enclosing a list comprehension in square brackets and\n",
    "   parentheses?\n",
    "2) What is the relationship between generators and iterators?\n",
    "3) What are the signs that a function is a generator function?\n",
    "4) What is the purpose of a yield statement?\n",
    "5) What is the relationship between map calls and list comprehensions? Make a comparison and\n",
    "   contrast between the two."
   ]
  },
  {
   "cell_type": "markdown",
   "id": "5a7accd0-d478-4a09-b0f8-28274f0240de",
   "metadata": {},
   "source": [
    "What is the difference between enclosing a list comprehension in square brackets and parentheses?"
   ]
  },
  {
   "cell_type": "code",
   "execution_count": 1,
   "id": "0afc742d-a130-436c-b64d-edfd4053e25f",
   "metadata": {},
   "outputs": [
    {
     "data": {
      "text/plain": [
       "[0, 1, 2, 3, 4, 5, 6, 7, 8, 9]"
      ]
     },
     "execution_count": 1,
     "metadata": {},
     "output_type": "execute_result"
    }
   ],
   "source": [
    "lst = [i for i in range(10)]\n",
    "lst\n",
    "#List Comprehension with square brackets produces list.\n",
    "#List Comprehension with parentheses creates generators"
   ]
  },
  {
   "cell_type": "code",
   "execution_count": 2,
   "id": "1832dd97-2767-4ad2-9da6-2430b5613e3a",
   "metadata": {},
   "outputs": [
    {
     "data": {
      "text/plain": [
       "<generator object <genexpr> at 0x7f1aa20a3ae0>"
      ]
     },
     "execution_count": 2,
     "metadata": {},
     "output_type": "execute_result"
    }
   ],
   "source": [
    "#If you are familiar with list comprehensions, then this look likes it might create a tuple which is (1,2,3,4,....), \n",
    "#but it is actually a generator expression - this expression is a one time only iterator which will yield the values 1, 2, 3, 4.... in that order\n",
    "\n",
    "lstParanthesis = (i for i in range(10))\n",
    "lstParanthesis"
   ]
  },
  {
   "cell_type": "code",
   "execution_count": 3,
   "id": "e28de659-712c-49a8-887c-1496f5c11871",
   "metadata": {},
   "outputs": [
    {
     "data": {
      "text/plain": [
       "[0, 1, 2, 3, 4, 5, 6, 7, 8, 9]"
      ]
     },
     "execution_count": 3,
     "metadata": {},
     "output_type": "execute_result"
    }
   ],
   "source": [
    "list(lstParanthesis)"
   ]
  },
  {
   "cell_type": "markdown",
   "id": "b1cb56e7-924a-460d-bc30-37a057157fe7",
   "metadata": {},
   "source": [
    "# Q"
   ]
  },
  {
   "cell_type": "markdown",
   "id": "a6f7ddf6-240c-4037-bed3-2eaf4b4e920a",
   "metadata": {},
   "source": [
    "What is the relationship between generators and iterators?"
   ]
  },
  {
   "cell_type": "raw",
   "id": "4abd2fe7-fd32-4bd2-bcf2-5df02d327d26",
   "metadata": {},
   "source": [
    "Ans. An iterator is an object which contains a countable number of values and it is used to iterate over iterable objects like list, tuples etc\n",
    "Using an iterator- iter() keyword is used to create an iterator containing an iterable object. next() keyword is used to call the next element in the iterable object.\n",
    "\n",
    "Generator\n",
    "It is another way of creating iterators in a simple way where it uses the keyword “yield” instead of returning it in a defined function Generators are implemented using a function Here, the yield function returns the data without affecting or exiting the function. It will return a sequence of data in an iterable format where we need to iterate over the sequence to use the data as they won’t store the entire sequence in the memory By using next() function we can iterate the output of generator function"
   ]
  },
  {
   "cell_type": "code",
   "execution_count": 5,
   "id": "13f6f2d7-8723-47f5-8eb9-ba6aa425c288",
   "metadata": {},
   "outputs": [
    {
     "name": "stdout",
     "output_type": "stream",
     "text": [
      "Dog\n",
      "CAt\n",
      "Bear\n"
     ]
    }
   ],
   "source": [
    "# iterator\n",
    "iter_list = iter(['Dog', 'CAt', 'Bear'])\n",
    "print(next(iter_list))\n",
    "print(next(iter_list))\n",
    "print(next(iter_list))"
   ]
  },
  {
   "cell_type": "code",
   "execution_count": 6,
   "id": "94a182ee-5118-45d1-99d0-a58394ed08eb",
   "metadata": {},
   "outputs": [],
   "source": [
    "# GEnerator \n",
    "\n",
    "def sq(n):\n",
    "    for i in range(1, n+1):\n",
    "        yield i*i\n",
    "     "
   ]
  },
  {
   "cell_type": "code",
   "execution_count": 7,
   "id": "5574e9e1-0520-4320-b074-9ef406092efc",
   "metadata": {},
   "outputs": [
    {
     "data": {
      "text/plain": [
       "<generator object sq at 0x7f1aa20a3d80>"
      ]
     },
     "execution_count": 7,
     "metadata": {},
     "output_type": "execute_result"
    }
   ],
   "source": [
    "sq(6)\n"
   ]
  },
  {
   "cell_type": "code",
   "execution_count": 8,
   "id": "bc71bb3a-6cf1-4972-a29a-0bf5ef1cf72f",
   "metadata": {},
   "outputs": [
    {
     "data": {
      "text/plain": [
       "<generator object sq at 0x7f1aa20a3e60>"
      ]
     },
     "execution_count": 8,
     "metadata": {},
     "output_type": "execute_result"
    }
   ],
   "source": [
    "lst = sq(6)\n",
    "lst"
   ]
  },
  {
   "cell_type": "code",
   "execution_count": 9,
   "id": "86f1b6c2-9870-4370-b7b7-a9c8be0b8b52",
   "metadata": {},
   "outputs": [
    {
     "name": "stdout",
     "output_type": "stream",
     "text": [
      "1\n",
      "4\n",
      "9\n",
      "16\n"
     ]
    }
   ],
   "source": [
    "print(next(lst))\n",
    "print(next(lst))\n",
    "print(next(lst))\n",
    "print(next(lst))\n",
    "     "
   ]
  },
  {
   "cell_type": "markdown",
   "id": "a7fc429e-aeb4-4e77-b068-854c0e4071a3",
   "metadata": {},
   "source": [
    "# Q"
   ]
  },
  {
   "cell_type": "markdown",
   "id": "6c54e656-6e19-4f4a-b1ec-ff7eb5e9ed82",
   "metadata": {},
   "source": [
    "What are the signs that a function is a generator function?"
   ]
  },
  {
   "cell_type": "raw",
   "id": "c9bbd07f-dbd3-4516-adba-07f5af2befc4",
   "metadata": {},
   "source": [
    "Ans. If a function contains at least one yield statement (it may contain other yield or return statements), it becomes a generator function. Both yield and return will return same value from a function."
   ]
  },
  {
   "cell_type": "markdown",
   "id": "a6abf00f-cc91-4b07-9331-e0b77335a1c7",
   "metadata": {},
   "source": [
    "# Q"
   ]
  },
  {
   "cell_type": "markdown",
   "id": "6ff64adc-939d-40e7-9268-568da2acadd0",
   "metadata": {},
   "source": [
    "What is the purpose of a yield statement?"
   ]
  },
  {
   "cell_type": "raw",
   "id": "e40f4095-ba60-458d-89bd-2300fa6a0035",
   "metadata": {},
   "source": [
    "A yield statement looks much like a return statement, except that instead of stopping execution of the function and\n",
    "returning, yield instead provides a value to the code looping over the generator and pauses execution of the generator function"
   ]
  },
  {
   "cell_type": "markdown",
   "id": "cfdd5232-7f62-41fc-b456-1a5d0e48f3ec",
   "metadata": {},
   "source": [
    "What is the relationship between map calls and list comprehensions? Make a comparison and contrast between the two."
   ]
  },
  {
   "cell_type": "raw",
   "id": "2d1bd7d4-5bb5-493f-b7e8-df370aabc543",
   "metadata": {},
   "source": [
    "Map function:\n",
    "Suppose we have a function and we want to compute this function for different values in a single line of code . This is where map() function plays its role. map() function returns a map object(which is an iterator) of the results after applying the given function to each item of a given iterable (list, tuple etc.)\n",
    "\n",
    "If we already have a function defined, it is often good to use map For example, map(sum, myLists) is more neat than [sum(x) for x in myLists]. You gain the elegance of not having to make up a dummy variable (e.g. sum(x) for x... or sum(_) for _... or sum(readableName) for readableName...) which you have to type twice, just to iterate.\n",
    "\n",
    "List Comprehension:\n",
    "\n",
    "List Comprehension is a substitute for the lambda function, map(), filter() and reduce()\n",
    "\n",
    "Comparision :\n",
    "List comprehension is more concise and easier to read as compared to map\n",
    "List comprehension allows filtering. In map, we have no such facility\n",
    "For example, \n",
    "to print all even numbers in range of 100, we can write [n for n in range(100) if n%2 == 0]. \n",
    "There is no alternate for it in map \n",
    "3. List comprehension are used when a list of results is required, where as map only returns a map object and does not return any list. 4. List comprehension is faster than map when we need to evaluate expressions that are too long or complicated to express 5. Map is faster in case of calling an already defined function (as no lambda is required)"
   ]
  },
  {
   "cell_type": "code",
   "execution_count": null,
   "id": "c9cc270f-cdd3-4011-8e5d-8156c9444bf9",
   "metadata": {},
   "outputs": [],
   "source": []
  }
 ],
 "metadata": {
  "kernelspec": {
   "display_name": "Python 3 (ipykernel)",
   "language": "python",
   "name": "python3"
  },
  "language_info": {
   "codemirror_mode": {
    "name": "ipython",
    "version": 3
   },
   "file_extension": ".py",
   "mimetype": "text/x-python",
   "name": "python",
   "nbconvert_exporter": "python",
   "pygments_lexer": "ipython3",
   "version": "3.10.6"
  }
 },
 "nbformat": 4,
 "nbformat_minor": 5
}
