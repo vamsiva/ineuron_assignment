{
 "cells": [
  {
   "cell_type": "code",
   "execution_count": null,
   "id": "ee8b9fb0-5421-4078-918d-ce66a76453a3",
   "metadata": {},
   "outputs": [],
   "source": [
    "\"\"\"PROGRAMMING ASSIGNMENT 1\n",
    "1. Write a Python program to print \"Hello Python\"?\n",
    "2. Write a Python program to do arithmetical operations addition and division.?\n",
    "3. Write a Python program to find the area of a triangle?\n",
    "4. Write a Python program to swap two variables?\n",
    "5. Write a Python program to generate a random number?\"\"\""
   ]
  },
  {
   "cell_type": "code",
   "execution_count": 4,
   "id": "8651c7a7-ddd6-4365-8397-793a3e75eefb",
   "metadata": {
    "jupyter": {
     "source_hidden": true
    },
    "tags": []
   },
   "outputs": [
    {
     "name": "stdout",
     "output_type": "stream",
     "text": [
      "Hello python\n"
     ]
    }
   ],
   "source": [
    "#1.Write a Python program to print \"Hello Python\"?\n",
    "print(\"Hello python\")"
   ]
  },
  {
   "cell_type": "code",
   "execution_count": 11,
   "id": "dc80efcb-644f-40a0-ba36-f443bec92333",
   "metadata": {},
   "outputs": [
    {
     "name": "stdout",
     "output_type": "stream",
     "text": [
      "enter any two numbers to do addition and division\n"
     ]
    },
    {
     "name": "stdin",
     "output_type": "stream",
     "text": [
      "first no: 4\n",
      "second no: 3\n"
     ]
    },
    {
     "name": "stdout",
     "output_type": "stream",
     "text": [
      "on addtion 7\n",
      "on division 1.3333333333333333\n"
     ]
    }
   ],
   "source": [
    "#2. Write a Python program to do arithmetical operations addition and division.?\n",
    "print(\"enter any two numbers to do addition and division\")\n",
    "a=int(input(\"first no:\"))\n",
    "b=int(input(\"second no:\"))\n",
    "#addition\n",
    "print(f\"on addtion {a+b}\")\n",
    "#division\n",
    "print(f\"on division {a/b}\")"
   ]
  },
  {
   "cell_type": "code",
   "execution_count": 17,
   "id": "b7c7bb93-bd7b-45d5-a9c2-534cf897fa1b",
   "metadata": {},
   "outputs": [
    {
     "name": "stdout",
     "output_type": "stream",
     "text": [
      "enter the three sides of the triangle\n"
     ]
    },
    {
     "name": "stdin",
     "output_type": "stream",
     "text": [
      "1st side is:  3\n",
      "2nd side is:  4\n",
      "3rd side is:  5\n"
     ]
    },
    {
     "name": "stdout",
     "output_type": "stream",
     "text": [
      "The area is: 6.0\n"
     ]
    }
   ],
   "source": [
    "#3. Write a Python program to find the area of a triangle?\n",
    "print(\"enter the three sides of the triangle\")\n",
    "a=int(input(\"1st side is: \"))\n",
    "b=int(input(\"2nd side is: \"))\n",
    "c=int(input(\"3rd side is: \"))\n",
    "\n",
    "s = (a+b+c)/2\n",
    "area = (s*(s-a)*(s-b)*(s-c)) ** 0.5\n",
    "print(f\"The area is: {area}\")"
   ]
  },
  {
   "cell_type": "code",
   "execution_count": 19,
   "id": "b47294d7-6128-4573-9f33-67db30cdaf02",
   "metadata": {},
   "outputs": [
    {
     "name": "stdout",
     "output_type": "stream",
     "text": [
      "enter two variables to swap\n"
     ]
    },
    {
     "name": "stdin",
     "output_type": "stream",
     "text": [
      " 23\n",
      " 45\n"
     ]
    },
    {
     "name": "stdout",
     "output_type": "stream",
     "text": [
      "The value of a and b upon swaping is a=45,b=23.\n"
     ]
    }
   ],
   "source": [
    "#4. Write a Python program to swap two variables?\n",
    "print(\"enter two variables to swap\")\n",
    "a=input()\n",
    "b=input()\n",
    "#swap code\n",
    "a,b=b,a\n",
    "print(f\"The value of a and b upon swaping is a={a},b={b}.\")\n",
    "\n"
   ]
  },
  {
   "cell_type": "code",
   "execution_count": 23,
   "id": "5117f31d-c713-4e12-a67b-3a57b2f4c307",
   "metadata": {},
   "outputs": [
    {
     "name": "stdout",
     "output_type": "stream",
     "text": [
      "0.2208443559295289\n"
     ]
    }
   ],
   "source": [
    "#5. Write a Python program to generate a random number?\"\"\"\n",
    "\n",
    "import random\n",
    "num = random.random()\n",
    "print(num)"
   ]
  }
 ],
 "metadata": {
  "kernelspec": {
   "display_name": "Python 3 (ipykernel)",
   "language": "python",
   "name": "python3"
  },
  "language_info": {
   "codemirror_mode": {
    "name": "ipython",
    "version": 3
   },
   "file_extension": ".py",
   "mimetype": "text/x-python",
   "name": "python",
   "nbconvert_exporter": "python",
   "pygments_lexer": "ipython3",
   "version": "3.10.6"
  }
 },
 "nbformat": 4,
 "nbformat_minor": 5
}
