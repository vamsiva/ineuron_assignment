{
 "cells": [
  {
   "cell_type": "code",
   "execution_count": 9,
   "id": "d33040b4-e869-48ec-85bb-677dba00c721",
   "metadata": {},
   "outputs": [
    {
     "name": "stdin",
     "output_type": "stream",
     "text": [
      "Enter the length of words do you want for output to be words which are greater than that:  4\n"
     ]
    },
    {
     "name": "stdout",
     "output_type": "stream",
     "text": [
      "The numbers which are greater than 4 are:\n",
      "vamsi\n",
      "krishna.\n"
     ]
    }
   ],
   "source": [
    "#1. Write a Python program to find words which are greater than given length k?\n",
    "k=int(input(\"Enter the length of words do you want for output to be words which are greater than that: \"))\n",
    "sent=\"hi my name is vamsi krishna.\"\n",
    "print(f\"The numbers which are greater than {k} are:\")\n",
    "x = sent.rsplit(\" \")\n",
    "for i in x:\n",
    "    if len(i)>k:\n",
    "        print(i)"
   ]
  },
  {
   "cell_type": "code",
   "execution_count": 29,
   "id": "d5b2978f-8aa4-4a28-9d50-c5f96c066bf4",
   "metadata": {},
   "outputs": [
    {
     "name": "stdin",
     "output_type": "stream",
     "text": [
      "Enter which character to remove from the string:  4\n"
     ]
    },
    {
     "name": "stdout",
     "output_type": "stream",
     "text": [
      "After removing the '4'th character from a string the resultant string is 'Vami'\n"
     ]
    }
   ],
   "source": [
    "#2. Write a Python program for removing i-th character from a string?\n",
    "sent1=\"Vamsi\"\n",
    "ith=int(input(\"Enter which character to remove from the string: \"))\n",
    "sent2=\"\"\n",
    "l=len(sent1)\n",
    "for i in range(l):\n",
    "    if ith-1!=i:\n",
    "        sent2=sent2+sent1[i]\n",
    "print(f\"After removing the '{ith}'th character from a string the resultant string is '{sent2}'\")\n",
    "        \n",
    "        "
   ]
  },
  {
   "cell_type": "code",
   "execution_count": 34,
   "id": "488f28c8-2f78-4e73-bcea-4b14886c366b",
   "metadata": {},
   "outputs": [
    {
     "name": "stdout",
     "output_type": "stream",
     "text": [
      "After spliting the string the resultant is ['vamsi', 'krishna', 'paila']\n",
      "After joining the string with - resultant string is 'vamsi-krishna-paila'\n"
     ]
    }
   ],
   "source": [
    "#3. Write a Python program to split and join a string?\n",
    "string = 'vamsi krishna paila'\n",
    "list_string = string.split(' ')\n",
    "print(f\"After spliting the string the resultant is {list_string}\")\n",
    "string = '-'.join(list_string)\n",
    "print(f\"After joining the string with - resultant string is '{string}'\")"
   ]
  },
  {
   "cell_type": "code",
   "execution_count": 44,
   "id": "782ba787-872a-414b-aa2a-e62120d31334",
   "metadata": {},
   "outputs": [
    {
     "name": "stdin",
     "output_type": "stream",
     "text": [
      "Enter the number to check wether it is binary or not:  2\n"
     ]
    },
    {
     "name": "stdout",
     "output_type": "stream",
     "text": [
      "It is not the binary number\n",
      "binary\n"
     ]
    }
   ],
   "source": [
    "#4. Write a Python to check if a given string is binary string or not?\n",
    "binary=input(\"Enter the number to check wether it is binary or not: \")\n",
    "try:\n",
    "    for i in binary:\n",
    "        i=int(i)\n",
    "        if i!=0 and i!=1:\n",
    "            print(\"It is not the binary number\")\n",
    "            break    \n",
    "finally:\n",
    "    print(\"binary\")"
   ]
  },
  {
   "cell_type": "code",
   "execution_count": 5,
   "id": "4fed817c-8363-49bd-88c0-67fad9685ee3",
   "metadata": {},
   "outputs": [],
   "source": [
    "#5. Write a Python program to find uncommon words from two Strings?\n"
   ]
  },
  {
   "cell_type": "code",
   "execution_count": 6,
   "id": "8ae373f3-1bae-42c5-9487-d6a8eb3975cf",
   "metadata": {},
   "outputs": [],
   "source": [
    "#6. Write a Python to find all duplicate characters in string?\n"
   ]
  },
  {
   "cell_type": "code",
   "execution_count": null,
   "id": "0adb855e-cd77-427e-aa2a-67c9200506c1",
   "metadata": {},
   "outputs": [],
   "source": [
    "#7. Write a Python Program to check if a string contains any special character?"
   ]
  }
 ],
 "metadata": {
  "kernelspec": {
   "display_name": "Python 3 (ipykernel)",
   "language": "python",
   "name": "python3"
  },
  "language_info": {
   "codemirror_mode": {
    "name": "ipython",
    "version": 3
   },
   "file_extension": ".py",
   "mimetype": "text/x-python",
   "name": "python",
   "nbconvert_exporter": "python",
   "pygments_lexer": "ipython3",
   "version": "3.10.6"
  }
 },
 "nbformat": 4,
 "nbformat_minor": 5
}
