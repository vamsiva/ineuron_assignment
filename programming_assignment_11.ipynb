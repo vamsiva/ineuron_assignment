{
 "cells": [
  {
   "cell_type": "code",
   "execution_count": 9,
   "id": "d33040b4-e869-48ec-85bb-677dba00c721",
   "metadata": {},
   "outputs": [
    {
     "name": "stdin",
     "output_type": "stream",
     "text": [
      "Enter the length of words do you want for output to be words which are greater than that:  4\n"
     ]
    },
    {
     "name": "stdout",
     "output_type": "stream",
     "text": [
      "The numbers which are greater than 4 are:\n",
      "vamsi\n",
      "krishna.\n"
     ]
    }
   ],
   "source": [
    "#1. Write a Python program to find words which are greater than given length k?\n",
    "k=int(input(\"Enter the length of words do you want for output to be words which are greater than that: \"))\n",
    "sent=\"hi my name is vamsi krishna.\"\n",
    "print(f\"The numbers which are greater than {k} are:\")\n",
    "x = sent.rsplit(\" \")\n",
    "for i in x:\n",
    "    if len(i)>k:\n",
    "        print(i)"
   ]
  },
  {
   "cell_type": "code",
   "execution_count": 29,
   "id": "d5b2978f-8aa4-4a28-9d50-c5f96c066bf4",
   "metadata": {},
   "outputs": [
    {
     "name": "stdin",
     "output_type": "stream",
     "text": [
      "Enter which character to remove from the string:  4\n"
     ]
    },
    {
     "name": "stdout",
     "output_type": "stream",
     "text": [
      "After removing the '4'th character from a string the resultant string is 'Vami'\n"
     ]
    }
   ],
   "source": [
    "#2. Write a Python program for removing i-th character from a string?\n",
    "sent1=\"Vamsi\"\n",
    "ith=int(input(\"Enter which character to remove from the string: \"))\n",
    "sent2=\"\"\n",
    "l=len(sent1)\n",
    "for i in range(l):\n",
    "    if ith-1!=i:\n",
    "        sent2=sent2+sent1[i]\n",
    "print(f\"After removing the '{ith}'th character from a string the resultant string is '{sent2}'\")\n",
    "        \n",
    "        "
   ]
  },
  {
   "cell_type": "code",
   "execution_count": 34,
   "id": "488f28c8-2f78-4e73-bcea-4b14886c366b",
   "metadata": {},
   "outputs": [
    {
     "name": "stdout",
     "output_type": "stream",
     "text": [
      "After spliting the string the resultant is ['vamsi', 'krishna', 'paila']\n",
      "After joining the string with - resultant string is 'vamsi-krishna-paila'\n"
     ]
    }
   ],
   "source": [
    "#3. Write a Python program to split and join a string?\n",
    "string = 'vamsi krishna paila'\n",
    "list_string = string.split(' ')\n",
    "print(f\"After spliting the string the resultant is {list_string}\")\n",
    "string = '-'.join(list_string)\n",
    "print(f\"After joining the string with - resultant string is '{string}'\")"
   ]
  },
  {
   "cell_type": "code",
   "execution_count": 52,
   "id": "782ba787-872a-414b-aa2a-e62120d31334",
   "metadata": {},
   "outputs": [
    {
     "name": "stdin",
     "output_type": "stream",
     "text": [
      "Enter the number to check wether it is binary or not:  23423\n"
     ]
    },
    {
     "name": "stdout",
     "output_type": "stream",
     "text": [
      "23423 is not the binary number\n"
     ]
    }
   ],
   "source": [
    "#4. Write a Python to check if a given string is binary string or not?\n",
    "binary=input(\"Enter the number to check wether it is binary or not: \")\n",
    "count=0\n",
    "for i in binary:\n",
    "    i=int(i)\n",
    "    if i!=0 and i!=1:\n",
    "        count=1\n",
    "        print(f\"{binary} is not the binary number\")\n",
    "        break    \n",
    "if count==0:\n",
    "    print(f\"The given number {binary} is BINARY\")"
   ]
  },
  {
   "cell_type": "code",
   "execution_count": 1,
   "id": "4fed817c-8363-49bd-88c0-67fad9685ee3",
   "metadata": {},
   "outputs": [
    {
     "name": "stdin",
     "output_type": "stream",
     "text": [
      "Enter 1st string:  vamshu\n",
      "Enter 2nd string:  varshu\n"
     ]
    },
    {
     "name": "stdout",
     "output_type": "stream",
     "text": [
      "Entered strings are vamshu and varshu.\n",
      "m->uncommon\n",
      "r->uncommon\n"
     ]
    }
   ],
   "source": [
    "#5. Write a Python program to find uncommon words from two Strings?\n",
    "strr1=input(\"Enter 1st string: \")\n",
    "strr2=input(\"Enter 2nd string: \")\n",
    "count=0\n",
    "print(f\"Entered strings are {strr1} and {strr2}.\")\n",
    "for i in strr1:\n",
    "    if i not in strr2:\n",
    "        count=1\n",
    "        print(f\"{i}->uncommon\")\n",
    "for i in strr2:\n",
    "    if i not in strr1:\n",
    "        count=1\n",
    "        print(f\"{i}->uncommon\")        \n",
    "if count==0:\n",
    "    print(\"There are no uncommon words in the string\")\n"
   ]
  },
  {
   "cell_type": "code",
   "execution_count": 3,
   "id": "8ae373f3-1bae-42c5-9487-d6a8eb3975cf",
   "metadata": {},
   "outputs": [
    {
     "name": "stdin",
     "output_type": "stream",
     "text": [
      "Enter a string to find if there are any duplicate characters are not:  ineuron\n"
     ]
    },
    {
     "name": "stdout",
     "output_type": "stream",
     "text": [
      "'n' is duplicate character from the string ineuron.\n"
     ]
    }
   ],
   "source": [
    "#6. Write a Python to find all duplicate characters in string?\n",
    "strr3=input(\"Enter a string to find if there are any duplicate characters are not: \")\n",
    "strr4=\"\"\n",
    "for i in strr3:\n",
    "    if i not in strr4:\n",
    "        strr4+=i\n",
    "    else:\n",
    "        print(f\"'{i}' is duplicate character from the string {strr3}.\") \n"
   ]
  },
  {
   "cell_type": "code",
   "execution_count": 4,
   "id": "0adb855e-cd77-427e-aa2a-67c9200506c1",
   "metadata": {},
   "outputs": [
    {
     "name": "stdin",
     "output_type": "stream",
     "text": [
      "Enter 1st string:  vamshu#varshu@436\n"
     ]
    },
    {
     "name": "stdout",
     "output_type": "stream",
     "text": [
      "Entered strings vamshu#varshu@436.\n",
      "#->special character\n",
      "@->special character\n"
     ]
    }
   ],
   "source": [
    "#7. Write a Python Program to check if a string contains any special character?\n",
    "strr5=input(\"Enter 1st string: \")\n",
    "strr6=\"[@_!#$%^&*()<>?/|}{~:]\"\n",
    "print(f\"Entered strings {strr5}.\")\n",
    "for i in strr5:\n",
    "    if i in strr6:\n",
    "        print(f\"{i}->special character\")"
   ]
  },
  {
   "cell_type": "code",
   "execution_count": null,
   "id": "51bac5d5-218a-422c-8215-aa775285b895",
   "metadata": {},
   "outputs": [],
   "source": []
  }
 ],
 "metadata": {
  "kernelspec": {
   "display_name": "Python 3 (ipykernel)",
   "language": "python",
   "name": "python3"
  },
  "language_info": {
   "codemirror_mode": {
    "name": "ipython",
    "version": 3
   },
   "file_extension": ".py",
   "mimetype": "text/x-python",
   "name": "python",
   "nbconvert_exporter": "python",
   "pygments_lexer": "ipython3",
   "version": "3.10.6"
  }
 },
 "nbformat": 4,
 "nbformat_minor": 5
}
