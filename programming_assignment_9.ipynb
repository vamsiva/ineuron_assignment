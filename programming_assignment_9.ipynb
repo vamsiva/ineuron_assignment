{
 "cells": [
  {
   "cell_type": "code",
   "execution_count": 1,
   "id": "21df3473-6d4f-4c43-8011-69b32858be67",
   "metadata": {},
   "outputs": [
    {
     "name": "stdin",
     "output_type": "stream",
     "text": [
      " 175\n"
     ]
    },
    {
     "name": "stdout",
     "output_type": "stream",
     "text": [
      "The entered number 175 is Disarium number.\n"
     ]
    }
   ],
   "source": [
    "#1. Write a Python program to check if the given number is a Disarium Number?\n",
    "n=input()\n",
    "n1=int(n)\n",
    "l=len(n)\n",
    "su_m=0\n",
    "for i in range(l):\n",
    "    n2=n1%10\n",
    "    su_m=su_m+n2**l\n",
    "    l=l-1\n",
    "    n1=n1//10\n",
    "if su_m==int(n):\n",
    "    print(f\"The entered number {n} is Disarium number.\")\n",
    "else:\n",
    "     print(f\"The entered number {n} is not Disarium number.\")\n",
    "    \n",
    "     \n",
    "    \n"
   ]
  },
  {
   "cell_type": "code",
   "execution_count": 2,
   "id": "91facbb1-87ea-4c01-9ed8-188fe6ebd45e",
   "metadata": {},
   "outputs": [
    {
     "name": "stdout",
     "output_type": "stream",
     "text": [
      "All disarium numbers between 1 to 100 are:  0 1 2 3 4 5 6 7 8 9 89 "
     ]
    }
   ],
   "source": [
    "#2. Write a Python program to print all disarium numbers between 1 to 100?\n",
    "print(\"All disarium numbers between 1 to 100 are: \",end=\" \")\n",
    "for n in range(101):\n",
    "    n3=str(n)\n",
    "    n1=int(n3)\n",
    "    l=len(n3)\n",
    "    su_m=0\n",
    "    for i in range(l):\n",
    "        n2=n1%10\n",
    "        su_m=su_m+n2**l\n",
    "        l=l-1\n",
    "        n1=n1//10\n",
    "    if su_m==int(n3):\n",
    "            print(n3,end=\" \") \n",
    "            "
   ]
  },
  {
   "cell_type": "code",
   "execution_count": 20,
   "id": "af3cff8e-332e-45f7-9cc1-2a455202e58c",
   "metadata": {},
   "outputs": [
    {
     "name": "stdin",
     "output_type": "stream",
     "text": [
      "enter the number to check wether it is Happy number or not : 19\n"
     ]
    },
    {
     "name": "stdout",
     "output_type": "stream",
     "text": [
      "19 is a happy number\n"
     ]
    }
   ],
   "source": [
    "#3. Write a Python program to check if the given number is Happy Number?\n",
    "num1=int(input(\"enter the number to check wether it is Happy number or not :\"))\n",
    "x=num1\n",
    "while x>10:\n",
    "    sum=0\n",
    "    while x>0:\n",
    "        r=x%10\n",
    "        sum=sum+r**2\n",
    "        x=x//10\n",
    "    x=sum   \n",
    "if x==1:\n",
    "    print(f\"{num1} is a happy number\")\n",
    "else :\n",
    "    print(f\"{num1} is not a happy number\")"
   ]
  },
  {
   "cell_type": "code",
   "execution_count": 22,
   "id": "c9b0aea0-1158-4224-992a-f5f1494ad515",
   "metadata": {},
   "outputs": [
    {
     "name": "stdout",
     "output_type": "stream",
     "text": [
      "The happy numbers between 1 and 100 are:  1 19 28 68 82 86 91 100 "
     ]
    }
   ],
   "source": [
    "#4. Write a Python program to print all happy numbers between 1 and 100?\n",
    "num1=1\n",
    "print(\"The happy numbers between 1 and 100 are: \",end=\" \")\n",
    "while num1<101:\n",
    "    x=num1\n",
    "    while x>10:\n",
    "        sum=0\n",
    "        while x>0:\n",
    "            r=x%10\n",
    "            sum=sum+r**2\n",
    "            x=x//10\n",
    "        x=sum   \n",
    "    if x==1:\n",
    "        print(num1,end=\" \")\n",
    "    num1=num1+1    "
   ]
  },
  {
   "cell_type": "code",
   "execution_count": 28,
   "id": "b1089df9-de1a-4a21-a038-071330f48cd3",
   "metadata": {},
   "outputs": [
    {
     "name": "stdin",
     "output_type": "stream",
     "text": [
      "Enter a number to check weather it is harshad number or not : 120\n"
     ]
    },
    {
     "name": "stdout",
     "output_type": "stream",
     "text": [
      "The given number '120' is an Harshad number since it is divisible by 3.\n"
     ]
    }
   ],
   "source": [
    "#5. Write a Python program to determine whether the given number is a Harshad Number?\n",
    "num4=int(input(\"Enter a number to check weather it is harshad number or not :\"))\n",
    "x1=num4\n",
    "ssum=0\n",
    "while x1>0:\n",
    "    ssum=ssum+x1%10\n",
    "    x1=x1//10\n",
    "if num4%ssum==0:\n",
    "    print(f\"The given number '{num4}' is an Harshad number since it is divisible by {ssum}.\")\n",
    "else:\n",
    "    print(f\"The given number '{num4}' is an not Harshad number since it is not divisible by {ssum}.\")\n",
    "\n",
    "    \n",
    "    "
   ]
  },
  {
   "cell_type": "code",
   "execution_count": 3,
   "id": "cb312263-c87e-4fad-97ba-c549ac2a5fa2",
   "metadata": {},
   "outputs": [
    {
     "name": "stdout",
     "output_type": "stream",
     "text": [
      "The pronic numbers between 1 and 100 are:  2 6 12 20 30 42 56 72 90 "
     ]
    }
   ],
   "source": [
    "#6. Write a Python program to print all pronic numbers between 1 and 100?\n",
    "print(\"The pronic numbers between 1 and 100 are: \",end=\" \")\n",
    "num5=1\n",
    "p=0\n",
    "while p<101:\n",
    "    n=num5+1\n",
    "    p=n*num5\n",
    "    num5=num5+1\n",
    "    if p<101:\n",
    "        print(p,end=\" \")\n",
    "    \n",
    "    \n",
    "\n"
   ]
  },
  {
   "cell_type": "code",
   "execution_count": null,
   "id": "ab704da2-3a00-40e5-9263-45851d3a9b01",
   "metadata": {},
   "outputs": [],
   "source": []
  }
 ],
 "metadata": {
  "kernelspec": {
   "display_name": "Python 3 (ipykernel)",
   "language": "python",
   "name": "python3"
  },
  "language_info": {
   "codemirror_mode": {
    "name": "ipython",
    "version": 3
   },
   "file_extension": ".py",
   "mimetype": "text/x-python",
   "name": "python",
   "nbconvert_exporter": "python",
   "pygments_lexer": "ipython3",
   "version": "3.10.6"
  }
 },
 "nbformat": 4,
 "nbformat_minor": 5
}
