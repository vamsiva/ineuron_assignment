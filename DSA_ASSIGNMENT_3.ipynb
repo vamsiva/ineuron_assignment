{
 "cells": [
  {
   "attachments": {},
   "cell_type": "markdown",
   "id": "27eb5dbb-5a78-4d02-b86a-e58f41d00918",
   "metadata": {},
   "source": [
    "# Q1"
   ]
  },
  {
   "attachments": {},
   "cell_type": "markdown",
   "id": "71b5238b-9b6a-4d7f-9622-26064467adad",
   "metadata": {},
   "source": [
    "Given an integer array nums of length n and an integer target, find three integers\n",
    "in nums such that the sum is closest to the target.\n",
    "Return the sum of the three integers.\n",
    "\n",
    "You may assume that each input would have exactly one solution.\n",
    "\n",
    "Example 1:\n",
    "Input: nums = [-1,2,1,-4], target = 1\n",
    "Output: 2\n",
    "\n",
    "Explanation: The sum that is closest to the target is 2. (-1 + 2 + 1 = 2)."
   ]
  },
  {
   "cell_type": "code",
   "execution_count": null,
   "id": "75021dc3-2770-426c-b0ef-02cc61878ab1",
   "metadata": {},
   "outputs": [
    {
     "data": {
      "text/plain": [
       "2"
      ]
     },
     "execution_count": 3,
     "metadata": {},
     "output_type": "execute_result"
    }
   ],
   "source": [
    "#Ans:\n",
    "\n",
    "def threeSumClosest(nums,target):\n",
    "    nums.sort()\n",
    "    n = len(nums)\n",
    "    closest_sum = nums[0] + nums[1] + nums[2] # initialize closest sum\n",
    "    for i in range(n - 2):\n",
    "        left, right = i + 1, n - 1\n",
    "        while left < right: # two-pointer approach\n",
    "            sum = nums[i] + nums[left] + nums[right]\n",
    "            if sum == target: # sum equals target, return immediately\n",
    "                return sum\n",
    "            elif sum < target:\n",
    "                left += 1\n",
    "            else:\n",
    "                right -= 1\n",
    "            if abs(sum - target) < abs(closest_sum - target): # update closest sum\n",
    "                closest_sum = sum\n",
    "    return closest_sum\n",
    "\n",
    "threeSumClosest(nums = [-1,2,1,-4], target = 1)"
   ]
  },
  {
   "attachments": {},
   "cell_type": "markdown",
   "id": "2c071f41-c295-4bbc-bd21-3baafb858571",
   "metadata": {},
   "source": [
    "# Q3"
   ]
  },
  {
   "attachments": {},
   "cell_type": "markdown",
   "id": "ad956717-1c59-4bdf-8960-fc565300456d",
   "metadata": {},
   "source": [
    "# Q4"
   ]
  },
  {
   "attachments": {},
   "cell_type": "markdown",
   "id": "8f778ab1-0a19-43e0-9799-ecc07a899be7",
   "metadata": {},
   "source": [
    "Question 4\n",
    "Given a sorted array of distinct integers and a target value, return the index if the\n",
    "target is found. If not, return the index where it would be if it were inserted in\n",
    "order.\n",
    "\n",
    "You must write an algorithm with O(log n) runtime complexity.\n",
    "\n",
    "Example 1:\n",
    "Input: nums = [1,3,5,6], target = 5\n",
    "Output: 2"
   ]
  },
  {
   "cell_type": "code",
   "execution_count": 6,
   "id": "db3674e0-cfeb-4f8f-b146-a815831ebdaf",
   "metadata": {},
   "outputs": [
    {
     "name": "stdout",
     "output_type": "stream",
     "text": [
      "3\n"
     ]
    }
   ],
   "source": [
    "#Ans:\n",
    "def find_target(arr, l, r, x):\n",
    " \n",
    "    while l <= r:\n",
    " \n",
    "        mid = l + (r - l) // 2\n",
    "        if arr[mid] == x:\n",
    "            return mid\n",
    "        elif arr[mid] < x:\n",
    "            l = mid + 1\n",
    "        else:\n",
    "            r = mid - 1\n",
    "    return mid+1\n",
    "if __name__ == '__main__':\n",
    "    arr = [1,3,5,6]\n",
    "    x = 4\n",
    " \n",
    "    # Function call\n",
    "    result = find_target(arr, 0, len(arr)-1, x)\n",
    "    print(result)"
   ]
  },
  {
   "attachments": {},
   "cell_type": "markdown",
   "id": "c5e8bf57-85bb-4e2b-b80a-effdbd0a7834",
   "metadata": {},
   "source": [
    "# Q5"
   ]
  },
  {
   "attachments": {},
   "cell_type": "markdown",
   "id": "7b05132c-663b-4c2f-abfb-911bbeb7a995",
   "metadata": {},
   "source": [
    "<aside>\n",
    "💡 You are given a large integer represented as an integer array digits, where each\n",
    "digits[i] is the ith digit of the integer. The digits are ordered from most significant\n",
    "to least significant in left-to-right order. The large integer does not contain any\n",
    "leading 0's.\n",
    "\n",
    "Increment the large integer by one and return the resulting array of digits.\n",
    "\n",
    "**Example 1:**\n",
    "Input: digits = [1,2,3]\n",
    "Output: [1,2,4]\n",
    "\n",
    "**Explanation:** The array represents the integer 123.\n",
    "Incrementing by one gives 123 + 1 = 124.\n",
    "Thus, the result should be [1,2,4].\n",
    "\n",
    "</aside>"
   ]
  },
  {
   "cell_type": "code",
   "execution_count": 7,
   "id": "a666a40b-9b18-486f-8d01-3ef1faa74be3",
   "metadata": {},
   "outputs": [
    {
     "name": "stdout",
     "output_type": "stream",
     "text": [
      "output list after adding one is [100].\n"
     ]
    }
   ],
   "source": [
    "#Ans:\n",
    "arr2=list(map(int,input(\"ENTER THE INPUT LIST\").strip().split()))\n",
    "def adding_one_at_end(arr2):\n",
    "    l=len(arr2)-1\n",
    "    for i in range(l,-1,-1):\n",
    "        if arr2[i]==9:\n",
    "            arr2[i]=0\n",
    "        else:\n",
    "            arr2[i]+=1\n",
    "            return list(arr2)\n",
    "#IF ALL ARE 999... THEN WE SHOULD ADD 1 IN FRONT\n",
    "    arr2.insert(0,1)\n",
    "    return(arr2)\n",
    "result=adding_one_at_end(arr2)\n",
    "print(f\"output list after adding one is {result}.\")\n"
   ]
  },
  {
   "cell_type": "code",
   "execution_count": 2,
   "id": "33b13fce-82bd-43a4-99a1-14231f9f7e18",
   "metadata": {},
   "outputs": [],
   "source": [
    "# Q6"
   ]
  },
  {
   "attachments": {},
   "cell_type": "markdown",
   "id": "0c3799f5-5322-4a9c-81a1-f0aa0be1d44d",
   "metadata": {},
   "source": [
    "Given a non-empty array of integers nums, every element appears twice except\n",
    "for one. Find that single one.\n",
    "\n",
    "You must implement a solution with a linear runtime complexity and use only\n",
    "constant extra space.\n",
    "\n",
    "Example 1:\n",
    "Input: nums = [2,2,1]\n",
    "Output: 1"
   ]
  },
  {
   "cell_type": "code",
   "execution_count": 19,
   "id": "f080b0c7-2666-4593-aed0-17cd42a11607",
   "metadata": {},
   "outputs": [
    {
     "name": "stdout",
     "output_type": "stream",
     "text": [
      "1\n"
     ]
    }
   ],
   "source": [
    "#Ans:\n",
    "nums=[2,2,1]\n",
    "freq={key:nums.count(key) for key in nums}\n",
    "for key in freq:\n",
    "    if freq[key]==1:\n",
    "        print(key)\n",
    "        break"
   ]
  },
  {
   "cell_type": "code",
   "execution_count": 11,
   "id": "1d966a18-056b-48f3-bb73-84abc0cf09d9",
   "metadata": {},
   "outputs": [],
   "source": [
    "# Q7"
   ]
  },
  {
   "attachments": {},
   "cell_type": "markdown",
   "id": "9574e476-2cc1-4017-93f2-98a892590cec",
   "metadata": {},
   "source": [
    "You are given an inclusive range [lower, upper] and a sorted unique integer array\n",
    "nums, where all elements are within the inclusive range.\n",
    "\n",
    "A number x is considered missing if x is in the range [lower, upper] and x is not in\n",
    "nums.\n",
    "\n",
    "Return the shortest sorted list of ranges that exactly covers all the missing\n",
    "numbers. That is, no element of nums is included in any of the ranges, and each\n",
    "missing number is covered by one of the ranges.\n",
    "\n",
    "Example 1:\n",
    "Input: nums = [0,1,3,50,75], lower = 0, upper = 99\n",
    "Output: [[2,2],[4,49],[51,74],[76,99]]\n",
    "\n",
    "Explanation: The ranges are:\n",
    "[2,2]\n",
    "[4,49]\n",
    "[51,74]\n",
    "[76,99]"
   ]
  },
  {
   "cell_type": "code",
   "execution_count": 10,
   "id": "caf8d150-392e-4fad-b54f-1742d98a1768",
   "metadata": {},
   "outputs": [],
   "source": [
    "#Ans:\n",
    "class Solution:\n",
    "    def findMissingRanges(self, nums: List[int], lower: int, upper: int) -> List[str]:\n",
    "        def f(a, b):\n",
    "            return str(a) if a == b else f'{a}->{b}'\n",
    "\n",
    "        n = len(nums)\n",
    "        if n == 0:\n",
    "            return [f(lower, upper)]\n",
    "        ans = []\n",
    "        if nums[0] > lower:\n",
    "            ans.append(f(lower, nums[0] - 1))\n",
    "        for a, b in pairwise(nums):\n",
    "            if b - a > 1:\n",
    "                ans.append(f(a + 1, b - 1))\n",
    "        if nums[-1] < upper:\n",
    "            ans.append(f(nums[-1] + 1, upper))\n",
    "        return ans"
   ]
  },
  {
   "cell_type": "code",
   "execution_count": 4,
   "id": "d7bc06b0-363c-4287-822c-8e11f5fd1c1a",
   "metadata": {},
   "outputs": [],
   "source": [
    "# Q8"
   ]
  },
  {
   "attachments": {},
   "cell_type": "markdown",
   "id": "2d6f8ec2-0701-47de-9dae-10cd2c8b373f",
   "metadata": {},
   "source": [
    "Given an array of meeting time intervals where intervals[i] = [starti, endi],\n",
    "determine if a person could attend all meetings.\n",
    "\n",
    "Example 1:\n",
    "Input: intervals = [[0,30],[5,10],[15,20]]\n",
    "Output: false"
   ]
  },
  {
   "cell_type": "code",
   "execution_count": 18,
   "id": "2fdd87bc-8a8c-428c-b37e-547153de040d",
   "metadata": {},
   "outputs": [
    {
     "data": {
      "text/plain": [
       "False"
      ]
     },
     "execution_count": 18,
     "metadata": {},
     "output_type": "execute_result"
    }
   ],
   "source": [
    "def canAttendMeetings(intervals):\n",
    "        n = len(intervals)\n",
    "        \n",
    "        def overlap(a, b):\n",
    "            return min(a[1], b[1]) > max(a[0], b[0])\n",
    "        \n",
    "        for i in range(n):\n",
    "            for j in range(i):\n",
    "                if overlap(intervals[i], intervals[j]):\n",
    "                    return False\n",
    "        return True\n",
    "intervals = [[0,30],[5,10],[15,20]]\n",
    "canAttendMeetings(intervals)\n"
   ]
  },
  {
   "cell_type": "code",
   "execution_count": null,
   "id": "52e8578c",
   "metadata": {},
   "outputs": [],
   "source": []
  }
 ],
 "metadata": {
  "kernelspec": {
   "display_name": "Python 3 (ipykernel)",
   "language": "python",
   "name": "python3"
  },
  "language_info": {
   "codemirror_mode": {
    "name": "ipython",
    "version": 3
   },
   "file_extension": ".py",
   "mimetype": "text/x-python",
   "name": "python",
   "nbconvert_exporter": "python",
   "pygments_lexer": "ipython3",
   "version": "3.10.9"
  }
 },
 "nbformat": 4,
 "nbformat_minor": 5
}
