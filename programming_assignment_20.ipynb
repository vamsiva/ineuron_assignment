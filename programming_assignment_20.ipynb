{
 "cells": [
  {
   "cell_type": "raw",
   "id": "7c9a38c7-c500-4657-82d9-a7b7147282f7",
   "metadata": {},
   "source": [
    "Question1\n",
    "Create a function that takes a list of strings and integers, and filters out the list so that it\n",
    "returns a list of integers only.\n",
    "Examples\n",
    "filter_list([1, 2, 3, &quot;a&quot;, &quot;b&quot;, 4]) ➞ [1, 2, 3, 4]\n",
    "filter_list([&quot;A&quot;, 0, &quot;Edabit&quot;, 1729, &quot;Python&quot;, &quot;1729&quot;]) ➞ [0, 1729]\n",
    "filter_list([&quot;Nothing&quot;, &quot;here&quot;]) ➞ []"
   ]
  },
  {
   "cell_type": "code",
   "execution_count": 2,
   "id": "bdc3a572-a8ed-4bb1-a688-c2c2a1aa3bed",
   "metadata": {},
   "outputs": [
    {
     "data": {
      "text/plain": [
       "[1, 2, 3, 4]"
      ]
     },
     "execution_count": 2,
     "metadata": {},
     "output_type": "execute_result"
    }
   ],
   "source": [
    "lst = [1, 2, 3, 'a', 'b', 4]\n",
    "def filter_list(lst):\n",
    "    int_list = []\n",
    "    for i in lst:\n",
    "        if type(i) == int:\n",
    "            int_list.append(i)\n",
    "       \n",
    "    return int_list\n",
    "filter_list([1, 2, 3, 'a', 'b', 4])"
   ]
  },
  {
   "cell_type": "raw",
   "id": "d805bf8d-8fb2-4df3-bde1-5edd3093cfe1",
   "metadata": {},
   "source": [
    "Question2\n",
    "Given a list of numbers, create a function which returns the list but with each element&#39;s\n",
    "index in the list added to itself. This means you add 0 to the number at index 0, add 1 to the\n",
    "number at index 1, etc...\n",
    "Examples\n",
    "add_indexes([0, 0, 0, 0, 0]) ➞ [0, 1, 2, 3, 4]\n",
    "add_indexes([1, 2, 3, 4, 5]) ➞ [1, 3, 5, 7, 9]\n",
    "add_indexes([5, 4, 3, 2, 1]) ➞ [5, 5, 5, 5, 5]"
   ]
  },
  {
   "cell_type": "code",
   "execution_count": 4,
   "id": "f3bf15df-f61b-4c9a-b489-db6ffb68be46",
   "metadata": {},
   "outputs": [
    {
     "data": {
      "text/plain": [
       "[0, 1, 2, 3, 4]"
      ]
     },
     "execution_count": 4,
     "metadata": {},
     "output_type": "execute_result"
    }
   ],
   "source": [
    "def add_indexes(lst):\n",
    "    ind = 0\n",
    "    index = []\n",
    "    for i in lst:\n",
    "        index.append(lst.index(i,ind) + i)\n",
    "        ind+=1\n",
    "    return index\n",
    "\n",
    "add_indexes([0, 0, 0, 0, 0])\n"
   ]
  },
  {
   "cell_type": "raw",
   "id": "cdb3655f-e0c6-4aa3-ab6f-dc2b55448a6b",
   "metadata": {},
   "source": [
    "Question3\n",
    "Create a function that takes the height and radius of a cone as arguments and returns the\n",
    "volume of the cone rounded to the nearest hundredth. See the resources tab for the formula.\n",
    "Examples\n",
    "cone_volume(3, 2) ➞ 12.57\n",
    "\n",
    "cone_volume(15, 6) ➞ 565.49\n",
    "cone_volume(18, 0) ➞ 0"
   ]
  },
  {
   "cell_type": "code",
   "execution_count": 5,
   "id": "e22ebfeb-cd3b-4259-aadf-33799e007add",
   "metadata": {},
   "outputs": [
    {
     "name": "stdout",
     "output_type": "stream",
     "text": [
      "Volume Of Cone :  565\n"
     ]
    }
   ],
   "source": [
    "import math\n",
    "pi = math.pi\n",
    " \n",
    "# calculate Volume of Cone\n",
    "def cone_volume(h, r):\n",
    "    return round((1 / 3) * pi * r * r * h)\n",
    " \n",
    "\n",
    "\n",
    "\n",
    "height = float(15)\n",
    "radius = float(6)\n",
    "\n",
    "print( \"Volume Of Cone : \", cone_volume(height, radius) )\n",
    "     "
   ]
  },
  {
   "cell_type": "code",
   "execution_count": null,
   "id": "ea25dfea-40b8-42c2-a30a-f6e0181146b8",
   "metadata": {},
   "outputs": [],
   "source": [
    "Question4\n",
    "This Triangular Number Sequence is generated from a pattern of dots that form a triangle.\n",
    "The first 5 numbers of the sequence, or dots, are:\n",
    "1, 3, 6, 10, 15\n",
    "This means that the first triangle has just one dot, the second one has three dots, the third one\n",
    "has 6 dots and so on.\n",
    "Write a function that gives the number of dots with its corresponding triangle number of the\n",
    "sequence.\n",
    "Examples\n",
    "triangle(1) ➞ 1\n",
    "triangle(6) ➞ 21\n",
    "triangle(215) ➞ 23220"
   ]
  }
 ],
 "metadata": {
  "kernelspec": {
   "display_name": "Python 3 (ipykernel)",
   "language": "python",
   "name": "python3"
  },
  "language_info": {
   "codemirror_mode": {
    "name": "ipython",
    "version": 3
   },
   "file_extension": ".py",
   "mimetype": "text/x-python",
   "name": "python",
   "nbconvert_exporter": "python",
   "pygments_lexer": "ipython3",
   "version": "3.10.6"
  }
 },
 "nbformat": 4,
 "nbformat_minor": 5
}
