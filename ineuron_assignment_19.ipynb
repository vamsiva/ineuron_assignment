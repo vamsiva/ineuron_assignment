{
 "cells": [
  {
   "cell_type": "markdown",
   "id": "a35c2059-838b-4aac-9942-500deed47b31",
   "metadata": {},
   "source": [
    "# Q1"
   ]
  },
  {
   "cell_type": "markdown",
   "id": "40966018-a57b-4bec-9de4-4bc5345bf6cc",
   "metadata": {},
   "source": [
    "1.Make a class called Thing with no contents and print it. Then, create an object called example from this class and also print it. Are the printed values the same or different? Ans:\n",
    "\n"
   ]
  },
  {
   "cell_type": "code",
   "execution_count": 5,
   "id": "81fca9db-ac5b-4fdb-a614-fd0b56baa2fb",
   "metadata": {},
   "outputs": [
    {
     "name": "stdout",
     "output_type": "stream",
     "text": [
      "<class '__main__.thing'>\n",
      "<__main__.thing object at 0x7f331e9248e0>\n"
     ]
    }
   ],
   "source": [
    "class thing:\n",
    "    pass\n",
    "print(thing)\n",
    "example=thing()\n",
    "print(example)"
   ]
  },
  {
   "cell_type": "markdown",
   "id": "f253b77e-1cef-4e5e-a4d6-47aadc700649",
   "metadata": {},
   "source": [
    "# Q2"
   ]
  },
  {
   "cell_type": "markdown",
   "id": "bf5b3848-2d87-4eb3-ab62-780177df2486",
   "metadata": {},
   "source": [
    "Create a new class called Thing2 and add the value 'abc' to the letters class attribute. Letters should be printed."
   ]
  },
  {
   "cell_type": "code",
   "execution_count": 7,
   "id": "95509882-d9c7-4fd0-90be-361c8c14f428",
   "metadata": {},
   "outputs": [
    {
     "data": {
      "text/plain": [
       "'abc'"
      ]
     },
     "execution_count": 7,
     "metadata": {},
     "output_type": "execute_result"
    }
   ],
   "source": [
    "class Thing2:\n",
    "    letter='abc'\n",
    "Thing2.letter"
   ]
  },
  {
   "cell_type": "markdown",
   "id": "8313efb6-596c-4ed7-91cb-2e6a664f5b7f",
   "metadata": {},
   "source": [
    "# Q3"
   ]
  },
  {
   "cell_type": "markdown",
   "id": "21596ad0-2cb2-46df-80de-3303bb56d960",
   "metadata": {},
   "source": [
    "Make yet another class called, of course, Thing3. This time, assign the value 'xyz' to an instance (object) attribute called letters. Print letters. Do you need to make an object from the class to do this?"
   ]
  },
  {
   "cell_type": "code",
   "execution_count": 3,
   "id": "ddcc5b8e-43b9-40bd-a197-949cfdfd1aac",
   "metadata": {},
   "outputs": [
    {
     "name": "stdout",
     "output_type": "stream",
     "text": [
      "xyz\n"
     ]
    }
   ],
   "source": [
    "class Thing3:\n",
    "    def __init__(self,letter):\n",
    "        self.letter=letter\n",
    "    def letters(self):\n",
    "        print(self.letter)\n",
    "        \n",
    "Thing3('xyz').letters()\n",
    "        "
   ]
  },
  {
   "cell_type": "markdown",
   "id": "532c0374-9999-4488-9f80-8734a555302d",
   "metadata": {},
   "source": [
    "# Q4"
   ]
  },
  {
   "cell_type": "markdown",
   "id": "200e7182-4e6b-4163-8936-2608c1332825",
   "metadata": {},
   "source": [
    "Create an Element class with the instance attributes name, symbol, and number. Create a class object with the values 'Hydrogen,' 'H,' and 1."
   ]
  },
  {
   "cell_type": "code",
   "execution_count": 6,
   "id": "f512afba-5e11-4244-b0d8-e2269a692185",
   "metadata": {},
   "outputs": [
    {
     "data": {
      "text/plain": [
       "'Hydrogen'"
      ]
     },
     "execution_count": 6,
     "metadata": {},
     "output_type": "execute_result"
    }
   ],
   "source": [
    "class Element:\n",
    "    def __init__(self,name,symbol,number):\n",
    "        self.name = name\n",
    "        self.symbol = symbol\n",
    "        self.number = number\n",
    "    def printThem(self):\n",
    "        print(self.name,self.symbol,self.number)\n",
    "obj = Element('Hydrogen','H',1)\n",
    "obj.name"
   ]
  },
  {
   "cell_type": "markdown",
   "id": "61e598e4-e15e-4988-84fd-40107ebe0673",
   "metadata": {},
   "source": [
    "# Q5"
   ]
  },
  {
   "cell_type": "markdown",
   "id": "7733bb36-f38a-4df7-9096-c36a6f0e26e1",
   "metadata": {},
   "source": [
    "Make a dictionary with these keys and values: 'name': 'Hydrogen', 'symbol': 'H', 'number': 1. Then, create an object called hydrogen from class Element using this dictionary.\n",
    "\n"
   ]
  },
  {
   "cell_type": "code",
   "execution_count": 8,
   "id": "4c0f0651-4a43-412d-9275-b22dde627b87",
   "metadata": {},
   "outputs": [
    {
     "data": {
      "text/plain": [
       "'H'"
      ]
     },
     "execution_count": 8,
     "metadata": {},
     "output_type": "execute_result"
    }
   ],
   "source": [
    "dict = {'name':'Hydrogen', 'symbol':'H','number': 1}\n",
    "hydrogen = Element(**dict) # using dictionary unpacking **\n",
    "hydrogen.symbol\n",
    "     "
   ]
  },
  {
   "cell_type": "markdown",
   "id": "5af92380-da85-4349-97d9-1b4884f3a289",
   "metadata": {},
   "source": [
    "# Q6"
   ]
  },
  {
   "cell_type": "markdown",
   "id": "3eb49544-31c7-4366-9111-5992ad30888b",
   "metadata": {},
   "source": [
    "For the Element class, define a method called dump() that prints the values of the object’s attributes (name, symbol, and number). Create the hydrogen object from this new definition and use dump() to print its attributes.\n",
    "\n"
   ]
  },
  {
   "cell_type": "code",
   "execution_count": 9,
   "id": "86c9934f-1d2f-4d7c-a928-0978364f7555",
   "metadata": {},
   "outputs": [],
   "source": [
    "\n",
    "class Element:\n",
    "    def __init__(self,name,symbol,number):\n",
    "        self.name = name\n",
    "        self.symbol = symbol\n",
    "        self.number = number\n",
    "    def dump(self):\n",
    "        print(self.name,self.symbol,self.number)\n",
    "     "
   ]
  },
  {
   "cell_type": "code",
   "execution_count": 10,
   "id": "95a19a1f-cfc9-4751-8bff-6b6df7d8f863",
   "metadata": {},
   "outputs": [
    {
     "name": "stdout",
     "output_type": "stream",
     "text": [
      "Hydrogen H 1\n"
     ]
    }
   ],
   "source": [
    "hydrogen = Element('Hydrogen','H',1)\n",
    "hydrogen.dump()"
   ]
  },
  {
   "cell_type": "markdown",
   "id": "b8e44b0a-6439-417f-8670-2e57b39661e1",
   "metadata": {},
   "source": [
    "# Q7"
   ]
  },
  {
   "cell_type": "markdown",
   "id": "52f17222-ff89-49fb-96d8-9344b8551f54",
   "metadata": {},
   "source": [
    "Call print(hydrogen). In the definition of Element, change the name of method dump to __str__, create a new hydrogen object, and call print(hydrogen) again.\n"
   ]
  },
  {
   "cell_type": "code",
   "execution_count": 13,
   "id": "0a224273-856d-40ba-a046-d2621271e9a9",
   "metadata": {},
   "outputs": [],
   "source": [
    "class Element:\n",
    "    def __init__(self,name,symbol,number):\n",
    "        self.name = name\n",
    "        self.symbol = symbol\n",
    "        self.number = number\n",
    "    def __str__(self):\n",
    "        return('name=%s, symbol=%s, number=%s'% (self.name, self.symbol, self.number) )"
   ]
  },
  {
   "cell_type": "code",
   "execution_count": 14,
   "id": "77b6093d-78f2-4088-8ff0-da2fd88f6de0",
   "metadata": {},
   "outputs": [
    {
     "name": "stdout",
     "output_type": "stream",
     "text": [
      "name=Hydrogen, symbol=H, number=1\n"
     ]
    }
   ],
   "source": [
    "hydrogen = Element('Hydrogen','H',1)\n",
    "print(hydrogen)"
   ]
  },
  {
   "cell_type": "markdown",
   "id": "356939d9-3a4d-4feb-a2ff-16db114ac703",
   "metadata": {},
   "source": [
    "# Q8"
   ]
  },
  {
   "cell_type": "markdown",
   "id": "f335d874-0884-4cc9-9471-905635146c51",
   "metadata": {},
   "source": [
    "Modify Element to make the attributes name, symbol, and number private. Define a getter property for each to return its value."
   ]
  },
  {
   "cell_type": "code",
   "execution_count": 16,
   "id": "73caf178-c3eb-4a65-bb7e-73ea0ef88224",
   "metadata": {},
   "outputs": [],
   "source": [
    "class Element(): \n",
    "    def __init__(self ,name,symbol,number):\n",
    "        self.__name = name\n",
    "        self.__symbol = symbol\n",
    "        self.__number = number\n",
    "    @property\n",
    "    def name(self):\n",
    "        return (self.__name)\n",
    "    @property\n",
    "    def symbol(self):\n",
    "        return (self.__symbol)\n",
    "    @property\n",
    "    def number(self):\n",
    "        return (self.__number)\n",
    "     "
   ]
  },
  {
   "cell_type": "code",
   "execution_count": 17,
   "id": "58833449-2567-4bf6-a6ad-d96648529c12",
   "metadata": {},
   "outputs": [
    {
     "data": {
      "text/plain": [
       "'Hydrogen'"
      ]
     },
     "execution_count": 17,
     "metadata": {},
     "output_type": "execute_result"
    }
   ],
   "source": [
    "hydrogen = Element('Hydrogen','H',1)\n",
    "hydrogen.name"
   ]
  },
  {
   "cell_type": "markdown",
   "id": "44460837-3d45-47a0-a263-138fa05eb2d3",
   "metadata": {},
   "source": [
    "# Q9"
   ]
  },
  {
   "cell_type": "markdown",
   "id": "a656824e-7adf-4610-95ba-fa69819405e6",
   "metadata": {},
   "source": [
    "Define three classes: Bear, Rabbit, and Octothorpe. For each, define only one method: eats(). This should return 'berries' (Bear), 'clover' (Rabbit), or 'campers' (Octothorpe). Create one object from each and print what it eats.\n",
    "\n"
   ]
  },
  {
   "cell_type": "code",
   "execution_count": 23,
   "id": "db3b057f-a0b4-467b-931c-61cdc25377d0",
   "metadata": {},
   "outputs": [
    {
     "name": "stdout",
     "output_type": "stream",
     "text": [
      "berries\n",
      "clover\n",
      "campers\n"
     ]
    }
   ],
   "source": [
    "class Bear:\n",
    "    def eats():\n",
    "        return 'berries'\n",
    "     \n",
    "class Rabbit:\n",
    "    def eats():\n",
    "        return 'clover'\n",
    "    \n",
    "    \n",
    "class Octothorpe:\n",
    "    def eats():\n",
    "        return 'campers'\n",
    "print(Bear.eats())\n",
    "\n",
    "print(Rabbit.eats())\n",
    "\n",
    "print(Octothorpe.eats())\n",
    "    \n",
    "   "
   ]
  },
  {
   "cell_type": "markdown",
   "id": "0f650dae-ac63-4d32-9460-3819bfae67d0",
   "metadata": {},
   "source": [
    "# Q10"
   ]
  },
  {
   "cell_type": "markdown",
   "id": "9c3ae35f-ca30-4065-a3d2-31d45bb57a80",
   "metadata": {},
   "source": [
    "Define these classes: Laser, Claw, and SmartPhone. Each has only one method: does(). This returns 'disintegrate' (Laser), 'crush' (Claw), or 'ring' (SmartPhone). Then, define the class Robot that has one instance (object) of each of these. Define a does() method for the Robot that prints what its component objects do."
   ]
  },
  {
   "cell_type": "code",
   "execution_count": 24,
   "id": "e072fd01-d284-4c07-a4be-bc00450bebc6",
   "metadata": {},
   "outputs": [],
   "source": [
    "class Laser:\n",
    "    def does():\n",
    "        return 'disintegrate'\n",
    "     \n",
    "class Claw:\n",
    "    def does():\n",
    "        return 'crush' \n",
    "    \n",
    "    \n",
    "class SmartPhone:\n",
    "    def does():\n",
    "        return 'ring'\n",
    "class Robot:\n",
    "    def does():\n",
    "        print(Bear.eats())\n",
    "        print(Rabbit.eats())\n",
    "        print(Octothorpe.eats())"
   ]
  },
  {
   "cell_type": "code",
   "execution_count": 25,
   "id": "fb406b26-8042-42fa-950c-176e7addd75d",
   "metadata": {},
   "outputs": [
    {
     "name": "stdout",
     "output_type": "stream",
     "text": [
      "berries\n",
      "clover\n",
      "campers\n"
     ]
    }
   ],
   "source": [
    "Robot.does()"
   ]
  },
  {
   "cell_type": "code",
   "execution_count": null,
   "id": "31bc63f9-5ce0-4ad3-ade6-a5b698e85534",
   "metadata": {},
   "outputs": [],
   "source": []
  }
 ],
 "metadata": {
  "kernelspec": {
   "display_name": "Python 3 (ipykernel)",
   "language": "python",
   "name": "python3"
  },
  "language_info": {
   "codemirror_mode": {
    "name": "ipython",
    "version": 3
   },
   "file_extension": ".py",
   "mimetype": "text/x-python",
   "name": "python",
   "nbconvert_exporter": "python",
   "pygments_lexer": "ipython3",
   "version": "3.10.6"
  }
 },
 "nbformat": 4,
 "nbformat_minor": 5
}
