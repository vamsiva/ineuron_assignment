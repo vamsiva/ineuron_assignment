{
 "cells": [
  {
   "cell_type": "code",
   "execution_count": 5,
   "id": "a00743d7-6026-4b5c-b679-db8fc509cf89",
   "metadata": {},
   "outputs": [
    {
     "name": "stdin",
     "output_type": "stream",
     "text": [
      "Enter the numbers of rows for the matrics:  2\n",
      "Enter the number of collumns for the matrics:  2\n",
      " 1\n",
      " 2\n",
      " 3\n",
      " 4\n"
     ]
    },
    {
     "name": "stdout",
     "output_type": "stream",
     "text": [
      "MATRICS 1:\n",
      "1 2 \n",
      "\n",
      "3 4 \n",
      "\n"
     ]
    },
    {
     "name": "stdin",
     "output_type": "stream",
     "text": [
      "Enter the numbers of rows for the matrics:  2\n",
      "Enter the number of collumns for the matrics:  2\n",
      " 1\n",
      " 2\n",
      " 3\n",
      " 4\n"
     ]
    },
    {
     "name": "stdout",
     "output_type": "stream",
     "text": [
      "MATRICS 2:\n",
      "1 2 \n",
      "\n",
      "3 4 \n",
      "\n",
      "The addition of matrics 1 and 2 gives : \n",
      "2 4 \n",
      "\n",
      "6 8 \n",
      "\n"
     ]
    }
   ],
   "source": [
    "#1. Write a Python Program to Add Two Matrices?\n",
    "r1=int(input(\"Enter the numbers of rows for the matrics: \"))\n",
    "c1=int(input(\"Enter the number of collumns for the matrics: \"))\n",
    "mat1=[]\n",
    "for i in range(r1):\n",
    "    a=[]\n",
    "    for j in range(c1):\n",
    "        a.append(int(input()))\n",
    "    mat1.append(a) \n",
    "\n",
    "print(\"MATRICS 1:\")    \n",
    "for i in range(r1):\n",
    "    for j in range(c1):\n",
    "        print(mat1[i][j],end=\" \")\n",
    "    print(\"\\n\")\n",
    "r2=int(input(\"Enter the numbers of rows for the matrics: \"))\n",
    "c2=int(input(\"Enter the number of collumns for the matrics: \"))\n",
    "mat2=[]\n",
    "for i in range(r2):\n",
    "    a=[]\n",
    "    for j in range(c2):\n",
    "        a.append(int(input()))\n",
    "    mat2.append(a)\n",
    "\n",
    "print(\"MATRICS 2:\")    \n",
    "for i in range(r1):\n",
    "    for j in range(c1):\n",
    "        print(mat2[i][j],end=\" \")\n",
    "    print(\"\\n\")    \n",
    "result=[]\n",
    "for i in range(r2):\n",
    "    a=[]\n",
    "    for j in range(c2):\n",
    "        a.append(mat1[i][j]+mat2[i][j])\n",
    "    result.append(a)\n",
    "\n",
    "    \n",
    "print(\"The addition of matrics 1 and 2 gives : \")    \n",
    "for i in range(r1):\n",
    "    for j in range(c1):\n",
    "        print(result[i][j],end=\" \")\n",
    "    print(\"\\n\")    \n",
    "    \n",
    "     \n"
   ]
  },
  {
   "cell_type": "code",
   "execution_count": 2,
   "id": "230bb241-88be-4589-a5eb-58676e16fa84",
   "metadata": {},
   "outputs": [],
   "source": [
    "#2. Write a Python Program to Multiply Two Matrices?\n",
    "r1=int(input(\"Enter the numbers of rows for the matrics: \"))\n",
    "c1=int(input(\"Enter the number of collumns for the matrics: \"))\n",
    "mat1=[]\n",
    "for i in range(r1):\n",
    "    a=[]\n",
    "    for j in range(c1):\n",
    "        a.append(int(input()))\n",
    "    mat1.append(a) \n",
    "\n",
    "print(\"MATRICS 1:\")    \n",
    "for i in range(r1):\n",
    "    for j in range(c1):\n",
    "        print(mat1[i][j],end=\" \")\n",
    "    print(\"\\n\")\n",
    "r2=int(input(\"Enter the numbers of rows for the matrics: \"))\n",
    "c2=int(input(\"Enter the number of collumns for the matrics: \"))\n",
    "mat2=[]\n",
    "for i in range(r2):\n",
    "    a=[]\n",
    "    for j in range(c2):\n",
    "        a.append(int(input()))\n",
    "    mat2.append(a)\n",
    "\n",
    "print(\"MATRICS 2:\")    \n",
    "for i in range(r1):\n",
    "    for j in range(c1):\n",
    "        print(mat2[i][j],end=\" \")\n",
    "    print(\"\\n\")    \n",
    "result=[]\n",
    "for i in range(r2):\n",
    "    a=[]\n",
    "    for j in range(c2):\n",
    "        a.append(mat1[i][j]+mat2[i][j])\n",
    "    result.append(a)\n",
    "\n",
    "    \n",
    "print(\"The addition of matrics 1 and 2 gives : \")    \n",
    "for i in range(r1):\n",
    "    for j in range(c1):\n",
    "        print(result[i][j],end=\" \")\n",
    "    print(\"\\n\")    \n",
    "    \n",
    "     \n",
    "\n"
   ]
  },
  {
   "cell_type": "code",
   "execution_count": 4,
   "id": "df5300f4-cb1f-4188-a19e-87d2f69ce1d3",
   "metadata": {},
   "outputs": [],
   "source": [
    "#3. Write a Python Program to Transpose a Matrix?"
   ]
  },
  {
   "cell_type": "code",
   "execution_count": 10,
   "id": "01dcb224-17b2-4383-8473-e96bdcbbf267",
   "metadata": {},
   "outputs": [
    {
     "name": "stdin",
     "output_type": "stream",
     "text": [
      "Enter how many words do you want to enter: 5\n",
      " vamsi\n",
      " amma\n",
      " nana\n",
      " chandu\n",
      " varshu\n"
     ]
    },
    {
     "name": "stdout",
     "output_type": "stream",
     "text": [
      "['vamsi', 'amma', 'nana', 'chandu', 'varshu']\n",
      "['amma', 'chandu', 'nana', 'vamsi', 'varshu']\n"
     ]
    }
   ],
   "source": [
    "#4. Write a Python Program to Sort Words in Alphabetic Order?\n",
    "n=int(input(\"Enter how many words do you want to enter:\"))\n",
    "l=list()\n",
    "for i in range(n):\n",
    "    l.append(input())\n",
    "print(l)    \n",
    "\n",
    "for i in range(n):\n",
    "    for j in range(n-1):\n",
    "        if l[j][0]>l[j+1][0]:\n",
    "            temp=l[j]\n",
    "            l[j]=l[j+1]\n",
    "            l[j+1]=temp\n",
    "print(l)            "
   ]
  },
  {
   "cell_type": "code",
   "execution_count": null,
   "id": "f324c103-c3b8-442a-b0cf-ce98bf8b9825",
   "metadata": {},
   "outputs": [],
   "source": [
    "#5. Write a Python Program to Remove Punctuation From a String?"
   ]
  }
 ],
 "metadata": {
  "kernelspec": {
   "display_name": "Python 3 (ipykernel)",
   "language": "python",
   "name": "python3"
  },
  "language_info": {
   "codemirror_mode": {
    "name": "ipython",
    "version": 3
   },
   "file_extension": ".py",
   "mimetype": "text/x-python",
   "name": "python",
   "nbconvert_exporter": "python",
   "pygments_lexer": "ipython3",
   "version": "3.10.6"
  }
 },
 "nbformat": 4,
 "nbformat_minor": 5
}
