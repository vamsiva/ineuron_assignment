{
 "cells": [
  {
   "cell_type": "raw",
   "id": "5fc736aa-78fa-4b8f-9a25-41d8352ca694",
   "metadata": {},
   "source": [
    "1. What is the result of the code, and why?\n",
    ">>>def func(a, b=6, c=8):\n",
    "print(a, b, c)\n",
    ">>>func(1, 2)\n",
    "2. What is the result of this code, and why?\n",
    ">>>def func(a, b, c=5):\n",
    "print(a, b, c)\n",
    ">>>func(1, c=3, b=2)\n",
    "3. How about this code: what is its result, and why?\n",
    ">>>def func(a, *pargs):\n",
    "print(a, pargs)\n",
    ">>>func(1, 2, 3)\n",
    "4. What does this code print, and why?\n",
    ">>>def func(a, **kargs):\n",
    "print(a, kargs)\n",
    ">>>func(a=1, c=3, b=2)\n",
    "5. What gets printed by this, and explain?\n",
    "def func(a, b, c=8, d=5): print(a, b, c, d)\n",
    ">>>func(1, *(5, 6))\n",
    "6. what is the result of this, and explain?\n",
    ">>>def func(a, b, c): a = 2; b[0] = &#39;x&#39;; c[&#39;a&#39;] = &#39;y&#39;\n",
    ">>>l=1; m=[1]; n={&#39;a&#39;:0}\n",
    ">>>func(l, m, n)\n",
    ">>>l, m, n"
   ]
  },
  {
   "cell_type": "markdown",
   "id": "e3edf09f-159d-42f9-8bb7-577f2f4eeede",
   "metadata": {},
   "source": [
    "1. What is the result of the code, and why?"
   ]
  },
  {
   "cell_type": "code",
   "execution_count": 3,
   "id": "e926fbac-9e3c-46b5-9ac6-49f8c6d42790",
   "metadata": {},
   "outputs": [
    {
     "name": "stdout",
     "output_type": "stream",
     "text": [
      "1 2 8\n"
     ]
    }
   ],
   "source": [
    "def func(a, b=6, c=8): \n",
    "    print(a, b, c)\n",
    "func(1,2)\n",
    "# Ans. This funtion is taking a positional argument and 2 keyward argument. When function call m=is made, parameter passed \n",
    "  # are a=1,b=2. When the function is executed , parameter c=8 will be taken by default as its a keyword argument.\n",
    "   # solution is = 1,2,8"
   ]
  },
  {
   "cell_type": "markdown",
   "id": "746bc808-73d4-4994-82b7-94a30c3a10fd",
   "metadata": {},
   "source": [
    "2. What is the result of this code, and why?"
   ]
  },
  {
   "cell_type": "code",
   "execution_count": 6,
   "id": "2593aca3-15cc-429a-90fe-bf51b99c84c0",
   "metadata": {},
   "outputs": [
    {
     "name": "stdout",
     "output_type": "stream",
     "text": [
      "1 2 3\n"
     ]
    }
   ],
   "source": [
    "def func(a, b, c=5):\n",
    "    print(a, b, c)\n",
    "func(1, c=3, b=2)\n",
    "# Ans. When we make function call, order will be positional argument and then keywords arguments. we can pass the keyword arguments in any order we want.\n",
    "#Solution is 1,2,3"
   ]
  },
  {
   "cell_type": "markdown",
   "id": "c2f6d2a8-1c49-4af0-9219-0a9d9abaa674",
   "metadata": {},
   "source": [
    "3. How about this code: what is its result, and why?"
   ]
  },
  {
   "cell_type": "code",
   "execution_count": 8,
   "id": "e0d691b0-97b1-4f2e-a29e-8d4fdfa126bf",
   "metadata": {},
   "outputs": [
    {
     "name": "stdout",
     "output_type": "stream",
     "text": [
      "1 (2, 3)\n"
     ]
    }
   ],
   "source": [
    "def func(a, *pargs):\n",
    "    print(a, pargs)\n",
    "func(1, 2, 3)\n",
    "# Ans.The return type of *args parameter is tuple, where as **kargs will be dictionary\n",
    "#solution is = 1,(2,3)\n",
    "     "
   ]
  },
  {
   "cell_type": "markdown",
   "id": "919e89fd-daf8-446d-be70-5e68aeccaa3d",
   "metadata": {},
   "source": [
    "4. What does this code print, and why?"
   ]
  },
  {
   "cell_type": "code",
   "execution_count": 9,
   "id": "21d67278-2b65-4641-b576-86c0a34ef200",
   "metadata": {},
   "outputs": [
    {
     "name": "stdout",
     "output_type": "stream",
     "text": [
      "1 {'c': 3, 'b': 2}\n"
     ]
    }
   ],
   "source": [
    "def func(a, **kargs):\n",
    "    print(a, kargs)\n",
    "func(a=1, c=3, b=2)\n",
    "\n",
    "#Ans. The return type of  **kargs is  dictionary\n",
    "#solution is = 1,{'c':3,'b':2}\n",
    "     "
   ]
  },
  {
   "cell_type": "markdown",
   "id": "13c90577-5c5b-402e-a651-e3fb157d7919",
   "metadata": {},
   "source": [
    "5. What gets printed by this, and explain?"
   ]
  },
  {
   "cell_type": "code",
   "execution_count": 11,
   "id": "0615550b-1aa3-47db-9d2d-dbf3aab10a31",
   "metadata": {},
   "outputs": [
    {
     "name": "stdout",
     "output_type": "stream",
     "text": [
      "1 5 6 5\n"
     ]
    }
   ],
   "source": [
    "def func(a, b, c=8, d=5): \n",
    "    print(a, b, c, d)\n",
    "func(1, *(5, 6))\n",
    "\n",
    "# '*' is the unpacking operator and are operators that unpack the values from iterable objects in Python. The single \n",
    "#    asterisk operator * can be used on any iterable that Python provides, while the double asterisk operator ** can only \n",
    " #   be used on dictionaries. In the example the value *(5,6) will be unpacked and will be assigned to b and c and passed \n",
    " #   as arguments, d =5 will taken by defaults are keyword arguments.\n",
    "\n",
    "  #  Solution 1,5,6,5"
   ]
  },
  {
   "cell_type": "markdown",
   "id": "80a8cd43-08ce-47c5-b596-b13e6f284196",
   "metadata": {},
   "source": [
    "6. what is the result of this, and explain?"
   ]
  },
  {
   "cell_type": "code",
   "execution_count": 12,
   "id": "14480e41-b6b6-49ac-ad46-45fdd7e6ebe6",
   "metadata": {},
   "outputs": [
    {
     "data": {
      "text/plain": [
       "(1, ['x'], {'a': 'y'})"
      ]
     },
     "execution_count": 12,
     "metadata": {},
     "output_type": "execute_result"
    }
   ],
   "source": [
    "def func(a, b, c): \n",
    "    a = 2; b[0] = 'x'; c['a'] = 'y'\n",
    "    \n",
    "l=1; m=[1]; n={'a':0}\n",
    "func(l, m, n)\n",
    "\n",
    "l, m, n\n",
    "# Ans. Here in the code, the list and dict are passed as argument, and those are mutable. Here the list l and parameter b point \n",
    "#to the same list in the memory location where as dict n and c point to the same memory location. Any updates to this \n",
    "#list will update in the memory location\n",
    "\n",
    "#l = 1 , integer values, immutable, m is list, mutable, n is dict, mutable.\n",
    "#output will be = 1,['x'],{'a':'y'}\n",
    "     "
   ]
  },
  {
   "cell_type": "code",
   "execution_count": null,
   "id": "abf1bd2a-1a8e-4302-833f-16bc2e8a9524",
   "metadata": {},
   "outputs": [],
   "source": []
  }
 ],
 "metadata": {
  "kernelspec": {
   "display_name": "Python 3 (ipykernel)",
   "language": "python",
   "name": "python3"
  },
  "language_info": {
   "codemirror_mode": {
    "name": "ipython",
    "version": 3
   },
   "file_extension": ".py",
   "mimetype": "text/x-python",
   "name": "python",
   "nbconvert_exporter": "python",
   "pygments_lexer": "ipython3",
   "version": "3.10.6"
  }
 },
 "nbformat": 4,
 "nbformat_minor": 5
}
