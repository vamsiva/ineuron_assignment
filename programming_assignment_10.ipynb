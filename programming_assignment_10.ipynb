{
 "cells": [
  {
   "cell_type": "code",
   "execution_count": 13,
   "id": "078baddf-9246-4a36-9c3f-fb2760fcd236",
   "metadata": {},
   "outputs": [
    {
     "name": "stdout",
     "output_type": "stream",
     "text": [
      "The sum all the elements in the list is : 10\n"
     ]
    }
   ],
   "source": [
    "#1. Write a Python program to find sum of elements in list?\n",
    "l=[1,2,3,4]\n",
    "sum=0\n",
    "for i in l:\n",
    "    sum+=i\n",
    "print(f\"The sum all the elements in the list is : {sum}\")    "
   ]
  },
  {
   "cell_type": "code",
   "execution_count": 15,
   "id": "523c9e49-c62e-493d-900e-0fe4feac64c9",
   "metadata": {},
   "outputs": [
    {
     "name": "stdout",
     "output_type": "stream",
     "text": [
      "The multiplication of all the elements in the list is :60\n"
     ]
    }
   ],
   "source": [
    "#2. Write a Python program to Multiply all numbers in the list?\n",
    "m=[1,3,4,5]\n",
    "mul=1\n",
    "for i in m:\n",
    "    mul*=i\n",
    "print(f\"The multiplication of all the elements in the list is :{mul}\")"
   ]
  },
  {
   "cell_type": "code",
   "execution_count": 18,
   "id": "2c068778-586b-4dd2-9676-109ca706d0aa",
   "metadata": {},
   "outputs": [
    {
     "name": "stdout",
     "output_type": "stream",
     "text": [
      "The smallest number in the given list is 1\n"
     ]
    }
   ],
   "source": [
    "#3. Write a Python program to find smallest number in a list?\n",
    "s=[4,3,5,1,2]\n",
    "small=s[0]\n",
    "for i in s:\n",
    "    if i<small:\n",
    "        small=i\n",
    "print(f\"The smallest number in the given list is {small}\")        "
   ]
  },
  {
   "cell_type": "code",
   "execution_count": 20,
   "id": "de1b7342-4292-44ce-aa30-f40d8e05eb25",
   "metadata": {},
   "outputs": [
    {
     "name": "stdout",
     "output_type": "stream",
     "text": [
      "The largest number in the given list is 5\n"
     ]
    }
   ],
   "source": [
    "#4. Write a Python program to find largest number in a list?\n",
    "l=[4,3,5,1,2]\n",
    "large=l[0]\n",
    "for i in s:\n",
    "    if i>large:\n",
    "        large=i\n",
    "print(f\"The largest number in the given list is {large}\")       "
   ]
  },
  {
   "cell_type": "code",
   "execution_count": 8,
   "id": "ac729066-5651-4e7e-abe3-fc1cf7948cf7",
   "metadata": {},
   "outputs": [
    {
     "name": "stdout",
     "output_type": "stream",
     "text": [
      "The second largest element in the arrat is 23.\n"
     ]
    }
   ],
   "source": [
    "#5. Write a Python program to find second largest number in a list?\n",
    "sec_lar=[1,4,3,5,34,22,23]\n",
    "sec_lar.sort()\n",
    "print(f\"The second largest element in the arrat is {sec_lar[-2]}.\")"
   ]
  },
  {
   "cell_type": "code",
   "execution_count": 11,
   "id": "b3529cf1-a992-4e20-b0a3-cde56cea165b",
   "metadata": {},
   "outputs": [
    {
     "name": "stdin",
     "output_type": "stream",
     "text": [
      "Enter which largest element you want:  4\n"
     ]
    },
    {
     "name": "stdout",
     "output_type": "stream",
     "text": [
      "The 4th largest element in the arrat is 5.\n"
     ]
    }
   ],
   "source": [
    "#6. Write a Python program to find N largest elements from a list?\n",
    "n=int(input(\"Enter which largest element you want: \"))\n",
    "n_lar=[1,4,3,5,34,22,23]\n",
    "n_lar.sort()\n",
    "print(f\"The {n}th largest element in the arrat is {n_lar[-n]}.\")\n"
   ]
  },
  {
   "cell_type": "code",
   "execution_count": 17,
   "id": "97cae4ad-40ea-4566-a820-d9d18af359da",
   "metadata": {},
   "outputs": [
    {
     "name": "stdout",
     "output_type": "stream",
     "text": [
      "The even numbers in the list are: 2, 12, 4, "
     ]
    }
   ],
   "source": [
    "#7. Write a Python program to print even numbers in a list?\n",
    "ev_nu=[1,23,2,12,3,4,43,11]\n",
    "print(\"The even numbers in the list are: \",end=\"\")\n",
    "for i in ev_nu:\n",
    "    if i%2==0:\n",
    "        print(i,end=\", \")"
   ]
  },
  {
   "cell_type": "code",
   "execution_count": 18,
   "id": "878f54ec-8fec-4801-b6d3-8792ac25dd7d",
   "metadata": {},
   "outputs": [
    {
     "name": "stdout",
     "output_type": "stream",
     "text": [
      "The odd numbers in the list are: 1, 23, 3, 43, 11, "
     ]
    }
   ],
   "source": [
    "#8. Write a Python program to print odd numbers in a List?\n",
    "\n",
    "odd_nu=[1,23,2,12,3,4,43,11]\n",
    "print(\"The odd numbers in the list are: \",end=\"\")\n",
    "for i in odd_nu:\n",
    "    if i%2!=0:\n",
    "        print(i,end=\", \")"
   ]
  },
  {
   "cell_type": "code",
   "execution_count": 28,
   "id": "1a39ac84-9c7c-4049-a61f-e6e31e9f7190",
   "metadata": {},
   "outputs": [
    {
     "name": "stdout",
     "output_type": "stream",
     "text": [
      "[2, 4]\n"
     ]
    }
   ],
   "source": [
    "#9. Write a Python program to Remove empty List from List?\n",
    "empty=[2,[],[],4]\n",
    "print(f\"Original list before\n",
    "res_empty=[ele for ele in empty if ele != []]\n",
    "print(res_empty)\n"
   ]
  },
  {
   "cell_type": "code",
   "execution_count": 2,
   "id": "1040896d-93b7-4aac-ae43-b67dcb752489",
   "metadata": {},
   "outputs": [
    {
     "name": "stdout",
     "output_type": "stream",
     "text": [
      "Original List: [4, 8, 2, 10, 15, 18]\n",
      "After Cloning: [4, 8, 2, 10, 15, 18]\n"
     ]
    }
   ],
   "source": [
    "#10. Write a Python program to Cloning or Copying a list?\n",
    "li1 = [4, 8, 2, 10, 15, 18]\n",
    "li_copy = li1[:]\n",
    "print(\"Original List:\", li1)\n",
    "print(\"After Cloning:\", li_copy)"
   ]
  },
  {
   "cell_type": "code",
   "execution_count": 11,
   "id": "e6919abd-5ecd-4225-ab3f-61bcc3db8e59",
   "metadata": {},
   "outputs": [],
   "source": [
    "#11. Write a Python program to Count occurrences of an element in a list?"
   ]
  },
  {
   "cell_type": "code",
   "execution_count": 4,
   "id": "1f314359-355e-4d3c-bc7f-4e19844df2a0",
   "metadata": {},
   "outputs": [
    {
     "name": "stdin",
     "output_type": "stream",
     "text": [
      "Enter the element to count occurences of that element in a list:  4\n"
     ]
    },
    {
     "name": "stdout",
     "output_type": "stream",
     "text": [
      "The number of occurences of the element 4 in the list is 3\n"
     ]
    }
   ],
   "source": [
    "occur_list=[1,33,4,3,4,4,53,42,53,34,23,23,43]\n",
    "n=int(input(\"Enter the element to count occurences of that element in a list: \"))\n",
    "count=0\n",
    "for i in occur_list:\n",
    "    if i==n:\n",
    "        count+=1\n",
    "print(f\"The number of occurences of the element '{n}' in the list is '{count}'.\")        "
   ]
  },
  {
   "cell_type": "code",
   "execution_count": null,
   "id": "ed6d7999-58ac-4164-a0ab-bb5bfbb8848e",
   "metadata": {},
   "outputs": [],
   "source": []
  }
 ],
 "metadata": {
  "kernelspec": {
   "display_name": "Python 3 (ipykernel)",
   "language": "python",
   "name": "python3"
  },
  "language_info": {
   "codemirror_mode": {
    "name": "ipython",
    "version": 3
   },
   "file_extension": ".py",
   "mimetype": "text/x-python",
   "name": "python",
   "nbconvert_exporter": "python",
   "pygments_lexer": "ipython3",
   "version": "3.10.6"
  }
 },
 "nbformat": 4,
 "nbformat_minor": 5
}
