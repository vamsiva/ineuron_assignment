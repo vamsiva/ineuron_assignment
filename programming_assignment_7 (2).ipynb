{
 "cells": [
  {
   "cell_type": "code",
   "execution_count": 7,
   "id": "452d9402-7f55-4f16-991e-5b5e26d5d67c",
   "metadata": {},
   "outputs": [
    {
     "name": "stdout",
     "output_type": "stream",
     "text": [
      "The sum of elements in an array is:13\n"
     ]
    }
   ],
   "source": [
    "#1. Write a Python Program to find sum of array?\n",
    "a=[1,3,4,5]\n",
    "sum=0\n",
    "for i in a:\n",
    "    sum+=i\n",
    "print(f\"The sum of elements in an array is:{sum}\")    "
   ]
  },
  {
   "cell_type": "code",
   "execution_count": 11,
   "id": "61bcff43-675f-4c2a-b9ff-53478609fa27",
   "metadata": {},
   "outputs": [
    {
     "name": "stdout",
     "output_type": "stream",
     "text": [
      "The largest number in the array is : 24\n"
     ]
    }
   ],
   "source": [
    "#2. Write a Python Program to find largest element in an array?\n",
    "b=[1,2,3,4,24,6,7,12]\n",
    "lar=0\n",
    "for i in range(len(b)):\n",
    "    if b[i]>lar:\n",
    "        lar=b[i]\n",
    "print(f\"The largest number in the array is : {lar}\")\n",
    "\n",
    "        "
   ]
  },
  {
   "cell_type": "code",
   "execution_count": 3,
   "id": "b776ec70-7490-4171-b2bf-4cf0063e1662",
   "metadata": {},
   "outputs": [
    {
     "name": "stdin",
     "output_type": "stream",
     "text": [
      "Enter how many rotations to do:  2\n"
     ]
    },
    {
     "name": "stdout",
     "output_type": "stream",
     "text": [
      "After two rotations arr the array is [3, 4, 5, 1, 2]\n"
     ]
    }
   ],
   "source": [
    "#3. Write a Python Program for array rotation?\n",
    "arr=[1,2,3,4,5]\n",
    "n=int(input(\"Enter how many rotations to do: \"))\n",
    "for i in range(n):\n",
    "      m=len(arr)\n",
    "      temp=arr[0]\n",
    "      for i in range(1,m):\n",
    "          arr[i-1]=arr[i]\n",
    "      arr[m-1]=temp    \n",
    "print(f\"After two rotations arr the array is {arr}\")  \n",
    "          \n",
    "        \n",
    "      \n",
    "                    \n",
    "    "
   ]
  },
  {
   "cell_type": "code",
   "execution_count": 5,
   "id": "b1c5b1d6-dc2f-46ec-b14c-ee77d08712d9",
   "metadata": {},
   "outputs": [
    {
     "name": "stdin",
     "output_type": "stream",
     "text": [
      "In which postion you want to split and add it to the last:  3\n"
     ]
    },
    {
     "name": "stdout",
     "output_type": "stream",
     "text": [
      "After splitting and adding at last the resultant array is : [40, 50, 10, 20, 30]\n"
     ]
    }
   ],
   "source": [
    "#4. Write a Python Program to Split the array and add the first part to the end?\n",
    "arr1=[10,20,30,40,50]\n",
    "k=int(input(\"In which postion you want to split and add it to the last: \"))\n",
    "for i in range(k):\n",
    "    m1=len(arr1)\n",
    "    temp=arr1[0]\n",
    "    for i in range(1,m1):\n",
    "        arr1[i-1]=arr1[i]\n",
    "    arr1[m1-1]=temp\n",
    "print(f\"After splitting and adding at last the resultant array is : {arr1}\")    "
   ]
  },
  {
   "cell_type": "code",
   "execution_count": 7,
   "id": "dcf1c10b-fe0c-4c02-889b-8f502fea8ace",
   "metadata": {},
   "outputs": [
    {
     "name": "stdout",
     "output_type": "stream",
     "text": [
      "The numbers are monotonic\n"
     ]
    }
   ],
   "source": [
    "#5. Write a Python Program to check if given array is Monotonic?\n",
    "def isMonotonic(A):\n",
    " \n",
    "    return (all(A[i] <= A[i + 1] for i in range(len(A) - 1)) or\n",
    "            all(A[i] >= A[i + 1] for i in range(len(A) - 1))) \n",
    "A = [61, 51, 40, 40]\n",
    "if isMonotonic(A)==True:\n",
    "    print(\"The numbers are monotonic\")\n",
    "else:\n",
    "    print(\"The numbers are NOT monotonic\")\n",
    "\n",
    "     \n",
    " "
   ]
  }
 ],
 "metadata": {
  "kernelspec": {
   "display_name": "Python 3 (ipykernel)",
   "language": "python",
   "name": "python3"
  },
  "language_info": {
   "codemirror_mode": {
    "name": "ipython",
    "version": 3
   },
   "file_extension": ".py",
   "mimetype": "text/x-python",
   "name": "python",
   "nbconvert_exporter": "python",
   "pygments_lexer": "ipython3",
   "version": "3.10.6"
  }
 },
 "nbformat": 4,
 "nbformat_minor": 5
}
