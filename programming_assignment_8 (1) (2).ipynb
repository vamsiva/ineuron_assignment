{
 "cells": [
  {
   "cell_type": "code",
   "execution_count": 7,
   "id": "a00743d7-6026-4b5c-b679-db8fc509cf89",
   "metadata": {},
   "outputs": [
    {
     "name": "stdin",
     "output_type": "stream",
     "text": [
      "Enter the numbers of rows for the matrics:  2\n",
      "Enter the number of collumns for the matrics:  2\n",
      " 1\n",
      " 2\n",
      " 3\n",
      " 4\n"
     ]
    },
    {
     "name": "stdout",
     "output_type": "stream",
     "text": [
      "MATRICS 1:\n",
      "1 2 \n",
      "\n",
      "3 4 \n",
      "\n"
     ]
    },
    {
     "name": "stdin",
     "output_type": "stream",
     "text": [
      "Enter the numbers of rows for the matrics:  2\n",
      "Enter the number of collumns for the matrics:  2\n",
      " 1\n",
      " 2\n",
      " 3\n",
      " 4\n"
     ]
    },
    {
     "name": "stdout",
     "output_type": "stream",
     "text": [
      "MATRICS 2:\n",
      "1 2 \n",
      "\n",
      "3 4 \n",
      "\n",
      "The addition of matrics 1 and 2 gives : \n",
      "2 4 \n",
      "\n",
      "6 8 \n",
      "\n"
     ]
    }
   ],
   "source": [
    "#1. Write a Python Program to Add Two Matrices?\n",
    "r1=int(input(\"Enter the numbers of rows for the matrics: \"))\n",
    "c1=int(input(\"Enter the number of collumns for the matrics: \"))\n",
    "mat1=[]\n",
    "for i in range(r1):\n",
    "    a=[]\n",
    "    for j in range(c1):\n",
    "        a.append(int(input()))\n",
    "    mat1.append(a) \n",
    "\n",
    "print(\"MATRICS 1:\")    \n",
    "for i in range(r1):\n",
    "    for j in range(c1):\n",
    "        print(mat1[i][j],end=\" \")\n",
    "    print(\"\\n\")\n",
    "r2=int(input(\"Enter the numbers of rows for the matrics: \"))\n",
    "c2=int(input(\"Enter the number of collumns for the matrics: \"))\n",
    "mat2=[]\n",
    "for i in range(r2):\n",
    "    a=[]\n",
    "    for j in range(c2):\n",
    "        a.append(int(input()))\n",
    "    mat2.append(a)\n",
    "\n",
    "print(\"MATRICS 2:\")    \n",
    "for i in range(r1):\n",
    "    for j in range(c1):\n",
    "        print(mat2[i][j],end=\" \")\n",
    "    print(\"\\n\")    \n",
    "result=[]\n",
    "for i in range(r2):\n",
    "    a=[]\n",
    "    for j in range(c2):\n",
    "        a.append(mat1[i][j]+mat2[i][j])\n",
    "    result.append(a)\n",
    "\n",
    "    \n",
    "print(\"The addition of matrics 1 and 2 gives : \")    \n",
    "for i in range(r1):\n",
    "    for j in range(c1):\n",
    "        print(result[i][j],end=\" \")\n",
    "    print(\"\\n\")    \n",
    "    \n",
    "     \n"
   ]
  },
  {
   "cell_type": "code",
   "execution_count": 18,
   "id": "230bb241-88be-4589-a5eb-58676e16fa84",
   "metadata": {},
   "outputs": [
    {
     "name": "stdin",
     "output_type": "stream",
     "text": [
      "Enter the numbers of rows for the matrics:  2\n",
      "Enter the number of collumns for the matrics:  2\n",
      " 1\n",
      " 2\n",
      " 3\n",
      " 4\n"
     ]
    },
    {
     "name": "stdout",
     "output_type": "stream",
     "text": [
      "MATRICS 1:\n",
      "1 2 \n",
      "\n",
      "3 4 \n",
      "\n"
     ]
    },
    {
     "name": "stdin",
     "output_type": "stream",
     "text": [
      "Enter the numbers of rows for the matrics:  2\n",
      "Enter the number of collumns for the matrics:  2\n",
      " 1\n",
      " 2\n",
      " 3\n",
      " 4\n"
     ]
    },
    {
     "name": "stdout",
     "output_type": "stream",
     "text": [
      "MATRICS 2:\n",
      "1 2 \n",
      "\n",
      "3 4 \n",
      "\n",
      "On multiplication of two matrics the resultant matrics is : \n",
      "[7, 10]\n",
      "[15, 22]\n"
     ]
    }
   ],
   "source": [
    "#2. Write a Python Program to Multiply Two Matrices?\n",
    "r1=int(input(\"Enter the numbers of rows for the matrics: \"))\n",
    "c1=int(input(\"Enter the number of collumns for the matrics: \"))\n",
    "mat1=[]\n",
    "for i in range(r1):\n",
    "    a=[]\n",
    "    for j in range(c1):\n",
    "        a.append(int(input()))\n",
    "    mat1.append(a) \n",
    "\n",
    "print(\"MATRICS 1:\")    \n",
    "for i in range(r1):\n",
    "    for j in range(c1):\n",
    "        print(mat1[i][j],end=\" \")\n",
    "    print(\"\\n\")\n",
    "r2=int(input(\"Enter the numbers of rows for the matrics: \"))\n",
    "c2=int(input(\"Enter the number of collumns for the matrics: \"))\n",
    "mat2=[]\n",
    "for i in range(r2):\n",
    "    a=[]\n",
    "    for j in range(c2):\n",
    "        a.append(int(input()))\n",
    "    mat2.append(a)\n",
    "\n",
    "print(\"MATRICS 2:\")    \n",
    "for i in range(r1):\n",
    "    for j in range(c1):\n",
    "        print(mat2[i][j],end=\" \")\n",
    "    print(\"\\n\")    \n",
    "res = [[0, 0],\n",
    "       [0, 0],\n",
    "       ]\n",
    "\n",
    "for i in range(r1):\n",
    "   for j in range(c2):\n",
    "      for k in range(r2):\n",
    "         res[i][j] += mat1[i][k] * mat2[k][j]\n",
    "\n",
    "print(\"On multiplication of two matrics the resultant matrics is : \")        \n",
    "for r in res:\n",
    "   print(r)\n"
   ]
  },
  {
   "cell_type": "code",
   "execution_count": 28,
   "id": "df5300f4-cb1f-4188-a19e-87d2f69ce1d3",
   "metadata": {
    "tags": []
   },
   "outputs": [
    {
     "name": "stdin",
     "output_type": "stream",
     "text": [
      "Enter the numbers of rows for the matrics:  2\n",
      "Enter the number of collumns for the matrics:  2\n",
      " 1\n",
      " 2\n",
      " 34\n",
      " 4\n"
     ]
    },
    {
     "name": "stdout",
     "output_type": "stream",
     "text": [
      "MATRICS to transpose is: \n",
      "1 2 \n",
      "\n",
      "34 4 \n",
      "\n",
      "Transposed matrics is:\n",
      "1 34 \n",
      "\n",
      "2 4 \n",
      "\n"
     ]
    }
   ],
   "source": [
    "#3. Write a Python Program to Transpose a Matrix?\n",
    "rr1=int(input(\"Enter the numbers of rows for the matrics: \"))\n",
    "cc1=int(input(\"Enter the number of collumns for the matrics: \"))\n",
    "matr1=[]\n",
    "for i in range(rr1):\n",
    "    a=[]\n",
    "    for j in range(cc1):\n",
    "        a.append(int(input()))\n",
    "    matr1.append(a) \n",
    "\n",
    "print(\"MATRICS to transpose is: \")    \n",
    "for i in range(rr1):\n",
    "    for j in range(cc1):\n",
    "        print(matr1[i][j],end=\" \")\n",
    "    print(\"\\n\")\n",
    "matr2=[]\n",
    "for i in range(rr1):\n",
    "    a=[]\n",
    "    for j in range(cc1):\n",
    "        a.append(matr1[j][i])\n",
    "    matr2.append(a)\n",
    "\n",
    "print(\"Transposed matrics is:\")    \n",
    "for i in range(rr1):\n",
    "    for j in range(cc1):\n",
    "        print(matr2[i][j],end=\" \")\n",
    "    print(\"\\n\")        \n",
    "    "
   ]
  },
  {
   "cell_type": "code",
   "execution_count": 42,
   "id": "01dcb224-17b2-4383-8473-e96bdcbbf267",
   "metadata": {},
   "outputs": [
    {
     "name": "stdout",
     "output_type": "stream",
     "text": [
      "AFTER SORTING IM ALPHABETIC ORDER THE STRING IS:=> brown dog fox jumps lazy over quick the the\n"
     ]
    }
   ],
   "source": [
    "#4. Write a Python Program to Sort Words in Alphabetic Order?\n",
    "def Func(S):\n",
    "  W = S.split(\" \")\n",
    "  for i in range(len(W)):\n",
    "      W[i]=W[i].lower() \n",
    "  S = sorted(W)\n",
    "  print(' '.join(S))\n",
    "S = \"the Quick brown fox jumPs over the lazY Dog\"\n",
    "print(\"AFTER SORTING IM ALPHABETIC ORDER THE STRING IS:=> \",end=\"\")\n",
    "Func(S)\n"
   ]
  },
  {
   "cell_type": "code",
   "execution_count": 35,
   "id": "f324c103-c3b8-442a-b0cf-ce98bf8b9825",
   "metadata": {},
   "outputs": [
    {
     "name": "stdin",
     "output_type": "stream",
     "text": [
      "Enter the sentence:   i-n-e-uron. is the best place for , learning.\n"
     ]
    },
    {
     "name": "stdout",
     "output_type": "stream",
     "text": [
      "The original string is :  i-n-e-uron. is the best place for , learning.\n",
      "The string after punctuation filter :  ineuron is the best place for  learning\n"
     ]
    }
   ],
   "source": [
    "#5. Write a Python Program to Remove Punctuation From a String  \n",
    "tstr=input(\"Enter the sentence: \")\n",
    " \n",
    "print(\"The original string is : \" + tstr)\n",
    "punc = '''!()-[]{};:'\"\\,<>./?@#$%^&*_~'''\n",
    "for ele in tstr:\n",
    "    if ele in punc:\n",
    "        tstr = tstr.replace(ele, \"\")\n",
    "print(\"The string after punctuation filter : \" + tstr)\n"
   ]
  },
  {
   "cell_type": "code",
   "execution_count": null,
   "id": "554bc8a7-73f2-43d3-b310-c3578b05cc3f",
   "metadata": {},
   "outputs": [],
   "source": []
  }
 ],
 "metadata": {
  "kernelspec": {
   "display_name": "Python 3 (ipykernel)",
   "language": "python",
   "name": "python3"
  },
  "language_info": {
   "codemirror_mode": {
    "name": "ipython",
    "version": 3
   },
   "file_extension": ".py",
   "mimetype": "text/x-python",
   "name": "python",
   "nbconvert_exporter": "python",
   "pygments_lexer": "ipython3",
   "version": "3.10.6"
  }
 },
 "nbformat": 4,
 "nbformat_minor": 5
}
